{
 "cells": [
  {
   "cell_type": "markdown",
   "metadata": {},
   "source": [
    "### In this notebook we will clean a file containing data for the DRD2 receptor. \n",
    "\n",
    "Compounds are represented as SMILES (Simplified Molecular Input Line Entry System). The data also contains LogP and pIC50 values for most molecules.\n",
    "\n",
    "Motivation:\n",
    "\n",
    "1. Removal of Stereochemistry\n",
    "2. Removal of Invalid or duplicated SMILES\n",
    "3. Removal of NUll entries\n",
    "4. Removal of large unusual compounds (large compounds can behave like outliers and make the training process longer)\n",
    "\n",
    "This data will be used to train a scikit-learn model to predict pChEMBL values for newly generated compounds."
   ]
  },
  {
   "cell_type": "code",
   "execution_count": 99,
   "metadata": {},
   "outputs": [],
   "source": [
    "# importing libraries\n",
    "\n",
    "import numpy as np\n",
    "import pandas as pd\n",
    "import matplotlib.pyplot as plt\n",
    "import seaborn as sns\n",
    "%matplotlib inline"
   ]
  },
  {
   "cell_type": "code",
   "execution_count": 100,
   "metadata": {},
   "outputs": [],
   "source": [
    "# provide path\n",
    "path = 'Data/DRD2_raw_data.csv'\n",
    "df = pd.read_csv(path)"
   ]
  },
  {
   "cell_type": "code",
   "execution_count": 101,
   "metadata": {},
   "outputs": [
    {
     "name": "stdout",
     "output_type": "stream",
     "text": [
      "<class 'pandas.core.frame.DataFrame'>\n",
      "RangeIndex: 10983 entries, 0 to 10982\n",
      "Data columns (total 2 columns):\n",
      " #   Column         Non-Null Count  Dtype  \n",
      "---  ------         --------------  -----  \n",
      " 0   Smiles         10968 non-null  object \n",
      " 1   pChEMBL Value  10983 non-null  float64\n",
      "dtypes: float64(1), object(1)\n",
      "memory usage: 171.7+ KB\n"
     ]
    }
   ],
   "source": [
    "# get data info\n",
    "df.info()"
   ]
  },
  {
   "cell_type": "code",
   "execution_count": 102,
   "metadata": {},
   "outputs": [
    {
     "data": {
      "text/html": [
       "<div>\n",
       "<style scoped>\n",
       "    .dataframe tbody tr th:only-of-type {\n",
       "        vertical-align: middle;\n",
       "    }\n",
       "\n",
       "    .dataframe tbody tr th {\n",
       "        vertical-align: top;\n",
       "    }\n",
       "\n",
       "    .dataframe thead th {\n",
       "        text-align: right;\n",
       "    }\n",
       "</style>\n",
       "<table border=\"1\" class=\"dataframe\">\n",
       "  <thead>\n",
       "    <tr style=\"text-align: right;\">\n",
       "      <th></th>\n",
       "      <th>Smiles</th>\n",
       "      <th>pChEMBL Value</th>\n",
       "    </tr>\n",
       "  </thead>\n",
       "  <tbody>\n",
       "    <tr>\n",
       "      <th>0</th>\n",
       "      <td>CCCSc1nnc(-c2ccccc2)n1C</td>\n",
       "      <td>3.74</td>\n",
       "    </tr>\n",
       "    <tr>\n",
       "      <th>1</th>\n",
       "      <td>Cc1ccc(CNCC2(F)CCN(C(=O)c3cc(Br)cs3)CC2)nc1</td>\n",
       "      <td>4.00</td>\n",
       "    </tr>\n",
       "    <tr>\n",
       "      <th>2</th>\n",
       "      <td>COc1ccccc1N1CCC2(CCNCC2)CC1</td>\n",
       "      <td>4.00</td>\n",
       "    </tr>\n",
       "    <tr>\n",
       "      <th>3</th>\n",
       "      <td>Cl.NCCc1ccc(O)c(O)c1</td>\n",
       "      <td>4.00</td>\n",
       "    </tr>\n",
       "    <tr>\n",
       "      <th>4</th>\n",
       "      <td>Cn1c(SCCCN2CCCCC2)nnc1-c1ccccc1</td>\n",
       "      <td>4.01</td>\n",
       "    </tr>\n",
       "  </tbody>\n",
       "</table>\n",
       "</div>"
      ],
      "text/plain": [
       "                                        Smiles  pChEMBL Value\n",
       "0                      CCCSc1nnc(-c2ccccc2)n1C           3.74\n",
       "1  Cc1ccc(CNCC2(F)CCN(C(=O)c3cc(Br)cs3)CC2)nc1           4.00\n",
       "2                  COc1ccccc1N1CCC2(CCNCC2)CC1           4.00\n",
       "3                         Cl.NCCc1ccc(O)c(O)c1           4.00\n",
       "4              Cn1c(SCCCN2CCCCC2)nnc1-c1ccccc1           4.01"
      ]
     },
     "execution_count": 102,
     "metadata": {},
     "output_type": "execute_result"
    }
   ],
   "source": [
    "df.head()"
   ]
  },
  {
   "cell_type": "code",
   "execution_count": 103,
   "metadata": {},
   "outputs": [],
   "source": [
    "#rename columns\n",
    "df.columns = ['SMILES', 'pChEMBL']"
   ]
  },
  {
   "cell_type": "code",
   "execution_count": 104,
   "metadata": {},
   "outputs": [
    {
     "data": {
      "text/plain": [
       "SMILES     15\n",
       "pChEMBL     0\n",
       "dtype: int64"
      ]
     },
     "execution_count": 104,
     "metadata": {},
     "output_type": "execute_result"
    }
   ],
   "source": [
    "#check for null values\n",
    "df.isnull().sum()"
   ]
  },
  {
   "cell_type": "code",
   "execution_count": 105,
   "metadata": {},
   "outputs": [],
   "source": [
    "# drop all rows with null values\n",
    "df = df.dropna(axis = 'rows')"
   ]
  },
  {
   "cell_type": "code",
   "execution_count": 106,
   "metadata": {},
   "outputs": [
    {
     "data": {
      "text/plain": [
       "SMILES     0\n",
       "pChEMBL    0\n",
       "dtype: int64"
      ]
     },
     "execution_count": 106,
     "metadata": {},
     "output_type": "execute_result"
    }
   ],
   "source": [
    "df.isnull().sum()"
   ]
  },
  {
   "cell_type": "code",
   "execution_count": 107,
   "metadata": {},
   "outputs": [
    {
     "name": "stdout",
     "output_type": "stream",
     "text": [
      "<class 'pandas.core.frame.DataFrame'>\n",
      "Int64Index: 10968 entries, 0 to 10982\n",
      "Data columns (total 2 columns):\n",
      " #   Column   Non-Null Count  Dtype  \n",
      "---  ------   --------------  -----  \n",
      " 0   SMILES   10968 non-null  object \n",
      " 1   pChEMBL  10968 non-null  float64\n",
      "dtypes: float64(1), object(1)\n",
      "memory usage: 257.1+ KB\n"
     ]
    }
   ],
   "source": [
    "df.info()"
   ]
  },
  {
   "cell_type": "code",
   "execution_count": 108,
   "metadata": {},
   "outputs": [],
   "source": [
    "# reset indices after performing 'drop'\n",
    "df.reset_index(drop=True, inplace=True)"
   ]
  },
  {
   "cell_type": "code",
   "execution_count": 109,
   "metadata": {},
   "outputs": [],
   "source": [
    "smiles = df['SMILES']\n",
    "activity = df['pChEMBL']"
   ]
  },
  {
   "cell_type": "markdown",
   "metadata": {},
   "source": [
    "## Stereochemistry Removal"
   ]
  },
  {
   "cell_type": "code",
   "execution_count": 110,
   "metadata": {},
   "outputs": [],
   "source": [
    "# Import RDkit packages\n",
    "\n",
    "from rdkit import Chem\n",
    "import rdkit.Chem as rkc\n",
    "import rdkit.Chem.AllChem as rkac\n",
    "import rdkit.Chem.Scaffolds.MurckoScaffold as mrks"
   ]
  },
  {
   "cell_type": "code",
   "execution_count": 111,
   "metadata": {},
   "outputs": [],
   "source": [
    "# removing '@' from a SMILE will rmove stereochemistry without changing positioning of the atoms\n",
    "\n",
    "def remove_stereochemistry(smi):\n",
    "    can_smi = str(smi).replace('@','')\n",
    "    return can_smi"
   ]
  },
  {
   "cell_type": "code",
   "execution_count": 112,
   "metadata": {},
   "outputs": [],
   "source": [
    "smiles_list = smiles.tolist()"
   ]
  },
  {
   "cell_type": "code",
   "execution_count": 113,
   "metadata": {},
   "outputs": [],
   "source": [
    "canonical_smiles = list(map(remove_stereochemistry, smiles_list))"
   ]
  },
  {
   "cell_type": "code",
   "execution_count": 114,
   "metadata": {},
   "outputs": [
    {
     "name": "stdout",
     "output_type": "stream",
     "text": [
      "10968\n"
     ]
    }
   ],
   "source": [
    "# convert to a series\n",
    "canonical_smiles = pd.Series(canonical_smiles, name = 'canonical')\n",
    "print(canonical_smiles.size)"
   ]
  },
  {
   "cell_type": "code",
   "execution_count": 115,
   "metadata": {},
   "outputs": [
    {
     "name": "stdout",
     "output_type": "stream",
     "text": [
      "<class 'pandas.core.frame.DataFrame'>\n",
      "RangeIndex: 10968 entries, 0 to 10967\n",
      "Data columns (total 2 columns):\n",
      " #   Column     Non-Null Count  Dtype  \n",
      "---  ------     --------------  -----  \n",
      " 0   canonical  10968 non-null  object \n",
      " 1   pChEMBL    10968 non-null  float64\n",
      "dtypes: float64(1), object(1)\n",
      "memory usage: 171.5+ KB\n"
     ]
    }
   ],
   "source": [
    "# create another dataframe with canonical SMILES\n",
    "clean_df = pd.concat([canonical_smiles,\n",
    "                     activity], axis=1)\n",
    "clean_df.info()"
   ]
  },
  {
   "cell_type": "code",
   "execution_count": 116,
   "metadata": {},
   "outputs": [
    {
     "data": {
      "text/html": [
       "<div>\n",
       "<style scoped>\n",
       "    .dataframe tbody tr th:only-of-type {\n",
       "        vertical-align: middle;\n",
       "    }\n",
       "\n",
       "    .dataframe tbody tr th {\n",
       "        vertical-align: top;\n",
       "    }\n",
       "\n",
       "    .dataframe thead th {\n",
       "        text-align: right;\n",
       "    }\n",
       "</style>\n",
       "<table border=\"1\" class=\"dataframe\">\n",
       "  <thead>\n",
       "    <tr style=\"text-align: right;\">\n",
       "      <th></th>\n",
       "      <th>canonical</th>\n",
       "      <th>pChEMBL</th>\n",
       "    </tr>\n",
       "  </thead>\n",
       "  <tbody>\n",
       "    <tr>\n",
       "      <th>10963</th>\n",
       "      <td>NC(=O)C1CCS[CH]2C[C]3(CCCN3C(=O)[CH]3CCCN3)C(=...</td>\n",
       "      <td>10.51</td>\n",
       "    </tr>\n",
       "    <tr>\n",
       "      <th>10964</th>\n",
       "      <td>O=C(NCCC(F)CN1CCN(c2cccc(Cl)c2Cl)CC1)c1cc2cccc...</td>\n",
       "      <td>10.52</td>\n",
       "    </tr>\n",
       "    <tr>\n",
       "      <th>10965</th>\n",
       "      <td>O=C(CCCN1CCC(n2c(O)nc3ccccc32)CC1)c1ccc(F)cc1</td>\n",
       "      <td>10.57</td>\n",
       "    </tr>\n",
       "    <tr>\n",
       "      <th>10966</th>\n",
       "      <td>O=C(O)C(=O)O.Oc1ccc2c(c1)O[CH](CNCc1ccccc1)CC2</td>\n",
       "      <td>10.70</td>\n",
       "    </tr>\n",
       "    <tr>\n",
       "      <th>10967</th>\n",
       "      <td>CCN(CC)C(=O)N[CH]1C=C2C3C=CC=C4NC=C(C[CH]2N(C)...</td>\n",
       "      <td>11.00</td>\n",
       "    </tr>\n",
       "  </tbody>\n",
       "</table>\n",
       "</div>"
      ],
      "text/plain": [
       "                                               canonical  pChEMBL\n",
       "10963  NC(=O)C1CCS[CH]2C[C]3(CCCN3C(=O)[CH]3CCCN3)C(=...    10.51\n",
       "10964  O=C(NCCC(F)CN1CCN(c2cccc(Cl)c2Cl)CC1)c1cc2cccc...    10.52\n",
       "10965      O=C(CCCN1CCC(n2c(O)nc3ccccc32)CC1)c1ccc(F)cc1    10.57\n",
       "10966     O=C(O)C(=O)O.Oc1ccc2c(c1)O[CH](CNCc1ccccc1)CC2    10.70\n",
       "10967  CCN(CC)C(=O)N[CH]1C=C2C3C=CC=C4NC=C(C[CH]2N(C)...    11.00"
      ]
     },
     "execution_count": 116,
     "metadata": {},
     "output_type": "execute_result"
    }
   ],
   "source": [
    "# check df tail to make sure df size and index match up\n",
    "clean_df.tail()"
   ]
  },
  {
   "cell_type": "markdown",
   "metadata": {},
   "source": [
    "## Removal of Large and Invalid SMILES"
   ]
  },
  {
   "cell_type": "code",
   "execution_count": 117,
   "metadata": {},
   "outputs": [],
   "source": [
    "# for this case we also declare compounds that are too large or too small as invalid\n",
    "\n",
    "def is_invalid(smi):\n",
    "\n",
    "    global i\n",
    "    if smi:\n",
    "        # setting sanitize to false avoids explicit valence error\n",
    "        # setting it to true gives the error and can be used to count invalid mols\n",
    "        mol = rkc.MolFromSmiles(smi, sanitize = True)\n",
    "        if mol is None:\n",
    "            return int(1)\n",
    "        elif (len(smi)  > 120) or (len(smi) < 20):\n",
    "            return int(1)\n",
    "        else:\n",
    "            pass\n",
    "        return int(0)"
   ]
  },
  {
   "cell_type": "code",
   "execution_count": 118,
   "metadata": {},
   "outputs": [
    {
     "name": "stderr",
     "output_type": "stream",
     "text": [
      "RDKit ERROR: [15:23:02] Explicit valence for atom # 21 N, 4, is greater than permitted\n",
      "RDKit ERROR: [15:23:02] Explicit valence for atom # 17 N, 4, is greater than permitted\n",
      "RDKit ERROR: [15:23:02] Explicit valence for atom # 14 N, 4, is greater than permitted\n",
      "RDKit ERROR: [15:23:02] Explicit valence for atom # 21 N, 4, is greater than permitted\n",
      "RDKit ERROR: [15:23:02] Explicit valence for atom # 12 N, 4, is greater than permitted\n",
      "RDKit ERROR: [15:23:02] Can't kekulize mol.  Unkekulized atoms: 9 11 12 13 14 15 17\n",
      "RDKit ERROR: \n",
      "RDKit ERROR: [15:23:02] Explicit valence for atom # 14 N, 4, is greater than permitted\n",
      "RDKit ERROR: [15:23:02] Explicit valence for atom # 15 N, 4, is greater than permitted\n",
      "RDKit ERROR: [15:23:02] Explicit valence for atom # 13 N, 4, is greater than permitted\n",
      "RDKit ERROR: [15:23:02] Explicit valence for atom # 5 N, 4, is greater than permitted\n",
      "RDKit ERROR: [15:23:02] Explicit valence for atom # 20 N, 4, is greater than permitted\n",
      "RDKit ERROR: [15:23:02] Explicit valence for atom # 2 N, 4, is greater than permitted\n",
      "RDKit ERROR: [15:23:02] Explicit valence for atom # 2 N, 4, is greater than permitted\n",
      "RDKit ERROR: [15:23:02] Explicit valence for atom # 1 N, 4, is greater than permitted\n",
      "RDKit ERROR: [15:23:02] Explicit valence for atom # 1 N, 4, is greater than permitted\n",
      "RDKit ERROR: [15:23:02] Explicit valence for atom # 18 N, 4, is greater than permitted\n",
      "RDKit ERROR: [15:23:02] Explicit valence for atom # 7 N, 4, is greater than permitted\n",
      "RDKit ERROR: [15:23:02] Explicit valence for atom # 25 N, 4, is greater than permitted\n",
      "RDKit ERROR: [15:23:02] Explicit valence for atom # 12 N, 4, is greater than permitted\n",
      "RDKit ERROR: [15:23:02] Explicit valence for atom # 28 N, 4, is greater than permitted\n",
      "RDKit ERROR: [15:23:02] Explicit valence for atom # 22 N, 4, is greater than permitted\n",
      "RDKit ERROR: [15:23:02] Explicit valence for atom # 17 N, 4, is greater than permitted\n",
      "RDKit ERROR: [15:23:02] Explicit valence for atom # 23 N, 4, is greater than permitted\n",
      "RDKit ERROR: [15:23:02] Explicit valence for atom # 13 N, 4, is greater than permitted\n",
      "RDKit ERROR: [15:23:02] Explicit valence for atom # 24 N, 4, is greater than permitted\n",
      "RDKit ERROR: [15:23:02] Explicit valence for atom # 29 N, 4, is greater than permitted\n",
      "RDKit ERROR: [15:23:02] Explicit valence for atom # 21 N, 4, is greater than permitted\n",
      "RDKit ERROR: [15:23:02] Explicit valence for atom # 12 N, 4, is greater than permitted\n",
      "RDKit ERROR: [15:23:02] Explicit valence for atom # 13 N, 4, is greater than permitted\n",
      "RDKit ERROR: [15:23:02] Explicit valence for atom # 24 N, 4, is greater than permitted\n",
      "RDKit ERROR: [15:23:02] Explicit valence for atom # 24 N, 4, is greater than permitted\n",
      "RDKit ERROR: [15:23:02] Explicit valence for atom # 8 N, 4, is greater than permitted\n",
      "RDKit ERROR: [15:23:02] Explicit valence for atom # 1 N, 4, is greater than permitted\n",
      "RDKit ERROR: [15:23:02] Can't kekulize mol.  Unkekulized atoms: 25 26 27 28 29\n",
      "RDKit ERROR: \n",
      "RDKit ERROR: [15:23:03] Explicit valence for atom # 9 N, 4, is greater than permitted\n",
      "RDKit ERROR: [15:23:03] Explicit valence for atom # 21 N, 4, is greater than permitted\n",
      "RDKit ERROR: [15:23:03] Explicit valence for atom # 19 N, 4, is greater than permitted\n",
      "RDKit ERROR: [15:23:03] Explicit valence for atom # 8 N, 4, is greater than permitted\n",
      "RDKit ERROR: [15:23:03] Explicit valence for atom # 31 N, 4, is greater than permitted\n",
      "RDKit ERROR: [15:23:03] Explicit valence for atom # 1 N, 4, is greater than permitted\n",
      "RDKit ERROR: [15:23:03] Explicit valence for atom # 18 N, 4, is greater than permitted\n",
      "RDKit ERROR: [15:23:03] Explicit valence for atom # 25 N, 4, is greater than permitted\n",
      "RDKit ERROR: [15:23:03] Can't kekulize mol.  Unkekulized atoms: 14 15 16 18 19 20 21 22 23\n",
      "RDKit ERROR: \n",
      "RDKit ERROR: [15:23:03] Explicit valence for atom # 28 N, 4, is greater than permitted\n",
      "RDKit ERROR: [15:23:03] Can't kekulize mol.  Unkekulized atoms: 179 181 182 196 197\n",
      "RDKit ERROR: \n",
      "RDKit ERROR: [15:23:03] Explicit valence for atom # 1 N, 4, is greater than permitted\n",
      "RDKit ERROR: [15:23:03] Explicit valence for atom # 9 N, 4, is greater than permitted\n",
      "RDKit ERROR: [15:23:03] Explicit valence for atom # 12 N, 4, is greater than permitted\n",
      "RDKit ERROR: [15:23:03] Explicit valence for atom # 28 N, 4, is greater than permitted\n",
      "RDKit ERROR: [15:23:03] Explicit valence for atom # 1 N, 4, is greater than permitted\n",
      "RDKit ERROR: [15:23:03] Explicit valence for atom # 6 N, 4, is greater than permitted\n",
      "RDKit ERROR: [15:23:03] Explicit valence for atom # 12 N, 4, is greater than permitted\n",
      "RDKit ERROR: [15:23:03] Explicit valence for atom # 21 N, 4, is greater than permitted\n",
      "RDKit ERROR: [15:23:03] Explicit valence for atom # 13 N, 4, is greater than permitted\n",
      "RDKit ERROR: [15:23:03] Explicit valence for atom # 5 N, 4, is greater than permitted\n",
      "RDKit ERROR: [15:23:03] Explicit valence for atom # 25 N, 4, is greater than permitted\n",
      "RDKit ERROR: [15:23:03] Explicit valence for atom # 19 N, 4, is greater than permitted\n",
      "RDKit ERROR: [15:23:03] Can't kekulize mol.  Unkekulized atoms: 25 26 27 28 29\n",
      "RDKit ERROR: \n",
      "RDKit ERROR: [15:23:03] Can't kekulize mol.  Unkekulized atoms: 25 26 27 28 29\n",
      "RDKit ERROR: \n",
      "RDKit ERROR: [15:23:03] Can't kekulize mol.  Unkekulized atoms: 25 26 27 28 29\n",
      "RDKit ERROR: \n",
      "RDKit ERROR: [15:23:03] Explicit valence for atom # 26 N, 4, is greater than permitted\n",
      "RDKit ERROR: [15:23:03] Explicit valence for atom # 13 N, 4, is greater than permitted\n",
      "RDKit ERROR: [15:23:03] Explicit valence for atom # 25 N, 4, is greater than permitted\n",
      "RDKit ERROR: [15:23:03] Explicit valence for atom # 25 N, 4, is greater than permitted\n",
      "RDKit ERROR: [15:23:03] Explicit valence for atom # 21 N, 4, is greater than permitted\n",
      "RDKit ERROR: [15:23:03] Explicit valence for atom # 6 N, 4, is greater than permitted\n",
      "RDKit ERROR: [15:23:03] Explicit valence for atom # 28 N, 4, is greater than permitted\n",
      "RDKit ERROR: [15:23:03] Explicit valence for atom # 25 N, 4, is greater than permitted\n",
      "RDKit ERROR: [15:23:04] Explicit valence for atom # 25 N, 4, is greater than permitted\n",
      "RDKit ERROR: [15:23:04] Explicit valence for atom # 25 N, 4, is greater than permitted\n",
      "RDKit ERROR: [15:23:04] Explicit valence for atom # 27 N, 4, is greater than permitted\n",
      "RDKit ERROR: [15:23:04] Explicit valence for atom # 24 N, 4, is greater than permitted\n",
      "RDKit ERROR: [15:23:04] Explicit valence for atom # 15 N, 4, is greater than permitted\n",
      "RDKit ERROR: [15:23:04] Explicit valence for atom # 25 N, 4, is greater than permitted\n",
      "RDKit ERROR: [15:23:04] Explicit valence for atom # 15 N, 4, is greater than permitted\n",
      "RDKit ERROR: [15:23:04] Explicit valence for atom # 15 N, 4, is greater than permitted\n"
     ]
    }
   ],
   "source": [
    "# create a series of valid/invalid values. 0 = valid, 1 = invalid\n",
    "invalid_list = list(map(is_invalid, clean_df['canonical']))"
   ]
  },
  {
   "cell_type": "code",
   "execution_count": 119,
   "metadata": {},
   "outputs": [
    {
     "name": "stdout",
     "output_type": "stream",
     "text": [
      "The number of invalid SMILES in the dataframe is: 253\n"
     ]
    }
   ],
   "source": [
    "print('The number of invalid SMILES in the dataframe is: ' + str(sum(invalid_list)))"
   ]
  },
  {
   "cell_type": "code",
   "execution_count": 120,
   "metadata": {},
   "outputs": [],
   "source": [
    "invalid_series = pd.Series(invalid_list, name = 'Invalid')\n",
    "\n",
    "clean_df = pd.concat([clean_df, invalid_series], axis = 1)"
   ]
  },
  {
   "cell_type": "code",
   "execution_count": 121,
   "metadata": {},
   "outputs": [
    {
     "data": {
      "text/html": [
       "<div>\n",
       "<style scoped>\n",
       "    .dataframe tbody tr th:only-of-type {\n",
       "        vertical-align: middle;\n",
       "    }\n",
       "\n",
       "    .dataframe tbody tr th {\n",
       "        vertical-align: top;\n",
       "    }\n",
       "\n",
       "    .dataframe thead th {\n",
       "        text-align: right;\n",
       "    }\n",
       "</style>\n",
       "<table border=\"1\" class=\"dataframe\">\n",
       "  <thead>\n",
       "    <tr style=\"text-align: right;\">\n",
       "      <th></th>\n",
       "      <th>canonical</th>\n",
       "      <th>pChEMBL</th>\n",
       "      <th>Invalid</th>\n",
       "    </tr>\n",
       "  </thead>\n",
       "  <tbody>\n",
       "    <tr>\n",
       "      <th>10963</th>\n",
       "      <td>NC(=O)C1CCS[CH]2C[C]3(CCCN3C(=O)[CH]3CCCN3)C(=...</td>\n",
       "      <td>10.51</td>\n",
       "      <td>0</td>\n",
       "    </tr>\n",
       "    <tr>\n",
       "      <th>10964</th>\n",
       "      <td>O=C(NCCC(F)CN1CCN(c2cccc(Cl)c2Cl)CC1)c1cc2cccc...</td>\n",
       "      <td>10.52</td>\n",
       "      <td>0</td>\n",
       "    </tr>\n",
       "    <tr>\n",
       "      <th>10965</th>\n",
       "      <td>O=C(CCCN1CCC(n2c(O)nc3ccccc32)CC1)c1ccc(F)cc1</td>\n",
       "      <td>10.57</td>\n",
       "      <td>0</td>\n",
       "    </tr>\n",
       "    <tr>\n",
       "      <th>10966</th>\n",
       "      <td>O=C(O)C(=O)O.Oc1ccc2c(c1)O[CH](CNCc1ccccc1)CC2</td>\n",
       "      <td>10.70</td>\n",
       "      <td>0</td>\n",
       "    </tr>\n",
       "    <tr>\n",
       "      <th>10967</th>\n",
       "      <td>CCN(CC)C(=O)N[CH]1C=C2C3C=CC=C4NC=C(C[CH]2N(C)...</td>\n",
       "      <td>11.00</td>\n",
       "      <td>0</td>\n",
       "    </tr>\n",
       "  </tbody>\n",
       "</table>\n",
       "</div>"
      ],
      "text/plain": [
       "                                               canonical  pChEMBL  Invalid\n",
       "10963  NC(=O)C1CCS[CH]2C[C]3(CCCN3C(=O)[CH]3CCCN3)C(=...    10.51        0\n",
       "10964  O=C(NCCC(F)CN1CCN(c2cccc(Cl)c2Cl)CC1)c1cc2cccc...    10.52        0\n",
       "10965      O=C(CCCN1CCC(n2c(O)nc3ccccc32)CC1)c1ccc(F)cc1    10.57        0\n",
       "10966     O=C(O)C(=O)O.Oc1ccc2c(c1)O[CH](CNCc1ccccc1)CC2    10.70        0\n",
       "10967  CCN(CC)C(=O)N[CH]1C=C2C3C=CC=C4NC=C(C[CH]2N(C)...    11.00        0"
      ]
     },
     "execution_count": 121,
     "metadata": {},
     "output_type": "execute_result"
    }
   ],
   "source": [
    "clean_df.tail()"
   ]
  },
  {
   "cell_type": "code",
   "execution_count": 122,
   "metadata": {},
   "outputs": [
    {
     "name": "stdout",
     "output_type": "stream",
     "text": [
      "<class 'pandas.core.frame.DataFrame'>\n",
      "Int64Index: 10715 entries, 0 to 10967\n",
      "Data columns (total 3 columns):\n",
      " #   Column     Non-Null Count  Dtype  \n",
      "---  ------     --------------  -----  \n",
      " 0   canonical  10715 non-null  object \n",
      " 1   pChEMBL    10715 non-null  float64\n",
      " 2   Invalid    10715 non-null  int64  \n",
      "dtypes: float64(1), int64(1), object(1)\n",
      "memory usage: 334.8+ KB\n"
     ]
    }
   ],
   "source": [
    "# create anew df where invalid == 0\n",
    "clean_valid_df = clean_df[clean_df['Invalid'] == 0]\n",
    "clean_valid_df.info()"
   ]
  },
  {
   "cell_type": "code",
   "execution_count": 123,
   "metadata": {},
   "outputs": [
    {
     "data": {
      "text/html": [
       "<div>\n",
       "<style scoped>\n",
       "    .dataframe tbody tr th:only-of-type {\n",
       "        vertical-align: middle;\n",
       "    }\n",
       "\n",
       "    .dataframe tbody tr th {\n",
       "        vertical-align: top;\n",
       "    }\n",
       "\n",
       "    .dataframe thead th {\n",
       "        text-align: right;\n",
       "    }\n",
       "</style>\n",
       "<table border=\"1\" class=\"dataframe\">\n",
       "  <thead>\n",
       "    <tr style=\"text-align: right;\">\n",
       "      <th></th>\n",
       "      <th>canonical</th>\n",
       "      <th>pChEMBL</th>\n",
       "    </tr>\n",
       "  </thead>\n",
       "  <tbody>\n",
       "    <tr>\n",
       "      <th>10710</th>\n",
       "      <td>NC(=O)C1CCS[CH]2C[C]3(CCCN3C(=O)[CH]3CCCN3)C(=...</td>\n",
       "      <td>10.51</td>\n",
       "    </tr>\n",
       "    <tr>\n",
       "      <th>10711</th>\n",
       "      <td>O=C(NCCC(F)CN1CCN(c2cccc(Cl)c2Cl)CC1)c1cc2cccc...</td>\n",
       "      <td>10.52</td>\n",
       "    </tr>\n",
       "    <tr>\n",
       "      <th>10712</th>\n",
       "      <td>O=C(CCCN1CCC(n2c(O)nc3ccccc32)CC1)c1ccc(F)cc1</td>\n",
       "      <td>10.57</td>\n",
       "    </tr>\n",
       "    <tr>\n",
       "      <th>10713</th>\n",
       "      <td>O=C(O)C(=O)O.Oc1ccc2c(c1)O[CH](CNCc1ccccc1)CC2</td>\n",
       "      <td>10.70</td>\n",
       "    </tr>\n",
       "    <tr>\n",
       "      <th>10714</th>\n",
       "      <td>CCN(CC)C(=O)N[CH]1C=C2C3C=CC=C4NC=C(C[CH]2N(C)...</td>\n",
       "      <td>11.00</td>\n",
       "    </tr>\n",
       "  </tbody>\n",
       "</table>\n",
       "</div>"
      ],
      "text/plain": [
       "                                               canonical  pChEMBL\n",
       "10710  NC(=O)C1CCS[CH]2C[C]3(CCCN3C(=O)[CH]3CCCN3)C(=...    10.51\n",
       "10711  O=C(NCCC(F)CN1CCN(c2cccc(Cl)c2Cl)CC1)c1cc2cccc...    10.52\n",
       "10712      O=C(CCCN1CCC(n2c(O)nc3ccccc32)CC1)c1ccc(F)cc1    10.57\n",
       "10713     O=C(O)C(=O)O.Oc1ccc2c(c1)O[CH](CNCc1ccccc1)CC2    10.70\n",
       "10714  CCN(CC)C(=O)N[CH]1C=C2C3C=CC=C4NC=C(C[CH]2N(C)...    11.00"
      ]
     },
     "execution_count": 123,
     "metadata": {},
     "output_type": "execute_result"
    }
   ],
   "source": [
    "# reset index since 'clean_valid_df' is a subset of 'clean_df'\n",
    "clean_valid_df.reset_index(drop=True, inplace=True)\n",
    "\n",
    "#drop 'invalid' column\n",
    "clean_valid_df = clean_valid_df.drop(['Invalid'], axis = 1)\n",
    "\n",
    "clean_valid_df.tail()"
   ]
  },
  {
   "cell_type": "code",
   "execution_count": 124,
   "metadata": {},
   "outputs": [
    {
     "name": "stdout",
     "output_type": "stream",
     "text": [
      "<class 'pandas.core.frame.DataFrame'>\n",
      "RangeIndex: 6770 entries, 0 to 6769\n",
      "Data columns (total 2 columns):\n",
      " #   Column     Non-Null Count  Dtype  \n",
      "---  ------     --------------  -----  \n",
      " 0   canonical  6770 non-null   object \n",
      " 1   pChEMBL    6770 non-null   float64\n",
      "dtypes: float64(1), object(1)\n",
      "memory usage: 105.9+ KB\n"
     ]
    }
   ],
   "source": [
    "# remove duplicates\n",
    "clean_valid_df.drop_duplicates(subset = ['canonical'], inplace = True)\n",
    "\n",
    "#reset index, check info\n",
    "clean_valid_df.reset_index(drop=True, inplace=True)\n",
    "clean_valid_df.info()"
   ]
  },
  {
   "cell_type": "code",
   "execution_count": 125,
   "metadata": {},
   "outputs": [
    {
     "data": {
      "text/html": [
       "<div>\n",
       "<style scoped>\n",
       "    .dataframe tbody tr th:only-of-type {\n",
       "        vertical-align: middle;\n",
       "    }\n",
       "\n",
       "    .dataframe tbody tr th {\n",
       "        vertical-align: top;\n",
       "    }\n",
       "\n",
       "    .dataframe thead th {\n",
       "        text-align: right;\n",
       "    }\n",
       "</style>\n",
       "<table border=\"1\" class=\"dataframe\">\n",
       "  <thead>\n",
       "    <tr style=\"text-align: right;\">\n",
       "      <th></th>\n",
       "      <th>canonical</th>\n",
       "      <th>pChEMBL</th>\n",
       "    </tr>\n",
       "  </thead>\n",
       "  <tbody>\n",
       "    <tr>\n",
       "      <th>6765</th>\n",
       "      <td>CS(=O)(=O)c1ccc2c(c1)N(CCCN1CCC(C(N)=O)CC1)c1c...</td>\n",
       "      <td>10.15</td>\n",
       "    </tr>\n",
       "    <tr>\n",
       "      <th>6766</th>\n",
       "      <td>O=C1NCc2ccc(OCCCCN3CCN(c4cccc5c4CCC5)CC3)cc21</td>\n",
       "      <td>10.24</td>\n",
       "    </tr>\n",
       "    <tr>\n",
       "      <th>6767</th>\n",
       "      <td>O=C(CCCN1[CH]2CC[CH]1CC(O)(c1ccc(Cl)cc1)C2)c1c...</td>\n",
       "      <td>10.26</td>\n",
       "    </tr>\n",
       "    <tr>\n",
       "      <th>6768</th>\n",
       "      <td>O=C(CCCN1CCC(n2c(O)nc3ccccc32)CC1)c1ccc(F)cc1</td>\n",
       "      <td>10.57</td>\n",
       "    </tr>\n",
       "    <tr>\n",
       "      <th>6769</th>\n",
       "      <td>CCN(CC)C(=O)N[CH]1C=C2C3C=CC=C4NC=C(C[CH]2N(C)...</td>\n",
       "      <td>11.00</td>\n",
       "    </tr>\n",
       "  </tbody>\n",
       "</table>\n",
       "</div>"
      ],
      "text/plain": [
       "                                              canonical  pChEMBL\n",
       "6765  CS(=O)(=O)c1ccc2c(c1)N(CCCN1CCC(C(N)=O)CC1)c1c...    10.15\n",
       "6766      O=C1NCc2ccc(OCCCCN3CCN(c4cccc5c4CCC5)CC3)cc21    10.24\n",
       "6767  O=C(CCCN1[CH]2CC[CH]1CC(O)(c1ccc(Cl)cc1)C2)c1c...    10.26\n",
       "6768      O=C(CCCN1CCC(n2c(O)nc3ccccc32)CC1)c1ccc(F)cc1    10.57\n",
       "6769  CCN(CC)C(=O)N[CH]1C=C2C3C=CC=C4NC=C(C[CH]2N(C)...    11.00"
      ]
     },
     "execution_count": 125,
     "metadata": {},
     "output_type": "execute_result"
    }
   ],
   "source": [
    "# check df tail\n",
    "clean_valid_df.tail()"
   ]
  },
  {
   "cell_type": "code",
   "execution_count": 126,
   "metadata": {},
   "outputs": [],
   "source": [
    "# save file\n",
    "clean_valid_df.to_csv('Data/DRD2_clean_data.csv', index = False)"
   ]
  },
  {
   "cell_type": "code",
   "execution_count": null,
   "metadata": {},
   "outputs": [],
   "source": []
  }
 ],
 "metadata": {
  "kernelspec": {
   "display_name": "RC_v3",
   "language": "python",
   "name": "reinventcommunity"
  },
  "language_info": {
   "codemirror_mode": {
    "name": "ipython",
    "version": 3
   },
   "file_extension": ".py",
   "mimetype": "text/x-python",
   "name": "python",
   "nbconvert_exporter": "python",
   "pygments_lexer": "ipython3",
   "version": "3.7.6"
  }
 },
 "nbformat": 4,
 "nbformat_minor": 4
}
