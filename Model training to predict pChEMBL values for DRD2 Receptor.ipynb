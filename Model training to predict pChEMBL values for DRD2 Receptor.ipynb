{
 "cells": [
  {
   "cell_type": "code",
   "execution_count": 1,
   "metadata": {},
   "outputs": [],
   "source": [
    "# import libraries\n",
    "import pandas as pd\n",
    "import numpy as np\n",
    "import pickle\n",
    "import sklearn.ensemble\n",
    "from sklearn.metrics import mean_squared_error, mean_absolute_error\n",
    "\n",
    "from rdkit import Chem, DataStructs\n",
    "from rdkit.Chem import AllChem, MACCSkeys, PandasTools\n",
    "from rdkit.Avalon import pyAvalonTools\n",
    "from rdkit.Chem.Draw import IPythonConsole\n",
    "\n",
    "import matplotlib.pyplot as plt\n",
    "import seaborn as sns\n",
    "\n",
    "%matplotlib inline"
   ]
  },
  {
   "cell_type": "code",
   "execution_count": 2,
   "metadata": {},
   "outputs": [
    {
     "name": "stdout",
     "output_type": "stream",
     "text": [
      "<class 'pandas.core.frame.DataFrame'>\n",
      "RangeIndex: 6770 entries, 0 to 6769\n",
      "Data columns (total 2 columns):\n",
      " #   Column     Non-Null Count  Dtype  \n",
      "---  ------     --------------  -----  \n",
      " 0   canonical  6770 non-null   object \n",
      " 1   pChEMBL    6770 non-null   float64\n",
      "dtypes: float64(1), object(1)\n",
      "memory usage: 105.9+ KB\n"
     ]
    }
   ],
   "source": [
    "# provide path to the dataset\n",
    "path = 'Data/DRD2_clean_data.csv'\n",
    "\n",
    "df = pd.read_csv(path)\n",
    "df.info()"
   ]
  },
  {
   "cell_type": "code",
   "execution_count": 3,
   "metadata": {},
   "outputs": [
    {
     "data": {
      "text/html": [
       "<div>\n",
       "<style scoped>\n",
       "    .dataframe tbody tr th:only-of-type {\n",
       "        vertical-align: middle;\n",
       "    }\n",
       "\n",
       "    .dataframe tbody tr th {\n",
       "        vertical-align: top;\n",
       "    }\n",
       "\n",
       "    .dataframe thead th {\n",
       "        text-align: right;\n",
       "    }\n",
       "</style>\n",
       "<table border=\"1\" class=\"dataframe\">\n",
       "  <thead>\n",
       "    <tr style=\"text-align: right;\">\n",
       "      <th></th>\n",
       "      <th>canonical</th>\n",
       "      <th>pChEMBL</th>\n",
       "    </tr>\n",
       "  </thead>\n",
       "  <tbody>\n",
       "    <tr>\n",
       "      <th>0</th>\n",
       "      <td>CCCSc1nnc(-c2ccccc2)n1C</td>\n",
       "      <td>3.74</td>\n",
       "    </tr>\n",
       "    <tr>\n",
       "      <th>1</th>\n",
       "      <td>Cc1ccc(CNCC2(F)CCN(C(=O)c3cc(Br)cs3)CC2)nc1</td>\n",
       "      <td>4.00</td>\n",
       "    </tr>\n",
       "    <tr>\n",
       "      <th>2</th>\n",
       "      <td>COc1ccccc1N1CCC2(CCNCC2)CC1</td>\n",
       "      <td>4.00</td>\n",
       "    </tr>\n",
       "    <tr>\n",
       "      <th>3</th>\n",
       "      <td>Cl.NCCc1ccc(O)c(O)c1</td>\n",
       "      <td>4.00</td>\n",
       "    </tr>\n",
       "    <tr>\n",
       "      <th>4</th>\n",
       "      <td>Cn1c(SCCCN2CCCCC2)nnc1-c1ccccc1</td>\n",
       "      <td>4.01</td>\n",
       "    </tr>\n",
       "  </tbody>\n",
       "</table>\n",
       "</div>"
      ],
      "text/plain": [
       "                                     canonical  pChEMBL\n",
       "0                      CCCSc1nnc(-c2ccccc2)n1C     3.74\n",
       "1  Cc1ccc(CNCC2(F)CCN(C(=O)c3cc(Br)cs3)CC2)nc1     4.00\n",
       "2                  COc1ccccc1N1CCC2(CCNCC2)CC1     4.00\n",
       "3                         Cl.NCCc1ccc(O)c(O)c1     4.00\n",
       "4              Cn1c(SCCCN2CCCCC2)nnc1-c1ccccc1     4.01"
      ]
     },
     "execution_count": 3,
     "metadata": {},
     "output_type": "execute_result"
    }
   ],
   "source": [
    "df.head()"
   ]
  },
  {
   "cell_type": "code",
   "execution_count": 4,
   "metadata": {},
   "outputs": [],
   "source": [
    "X = df['canonical']\n",
    "\n",
    "# note that the target label that we are trying to predic are pChEMBL values in this case\n",
    "y = df['pChEMBL']"
   ]
  },
  {
   "cell_type": "code",
   "execution_count": 5,
   "metadata": {},
   "outputs": [],
   "source": [
    "# divide data into train and test set\n",
    "from sklearn.model_selection import train_test_split\n",
    "\n",
    "X_train, X_test, y_train, y_test = train_test_split(X, y, test_size=0.3)"
   ]
  },
  {
   "cell_type": "code",
   "execution_count": 6,
   "metadata": {},
   "outputs": [
    {
     "name": "stdout",
     "output_type": "stream",
     "text": [
      "4739\n",
      "2031\n"
     ]
    }
   ],
   "source": [
    "print(X_train.size)\n",
    "print(X_test.size)"
   ]
  },
  {
   "cell_type": "markdown",
   "metadata": {},
   "source": [
    "# Circular Fingerprints\n",
    "\n",
    "SMILEs are in string format. However, we will transform them into numerical encodings known as molecular fingerprints. Each SMILE will be represented as a 1-D vextor with certain number of bits (1024 or 2048). This numerical data will then be used to train a regression model."
   ]
  },
  {
   "cell_type": "code",
   "execution_count": 7,
   "metadata": {},
   "outputs": [],
   "source": [
    "# convers a list of SMILEs to a list of mols\n",
    "def smi_to_mols(smi_list):\n",
    "    mols_list = [Chem.MolFromSmiles(smile) for smile in smi_list]\n",
    "    return mols_list\n",
    "\n",
    "\n",
    "# returns morgan fingerprints as a 2D array for a list of SMILE strings\n",
    "def get_morgan_fingerprints(smi_list, size, radius, useFeatures, useCounts=True):\n",
    "        mols = smi_to_mols(smi_list)\n",
    "        fps = [AllChem.GetMorganFingerprint(mol, radius, useCounts=useCounts, useFeatures=useFeatures) for mol in mols]\n",
    "        fps_arr = np.zeros((len(fps), size), np.int32)\n",
    "        for i, fp in enumerate(fps):\n",
    "            for index, value in fp.GetNonzeroElements().items():\n",
    "                n_index = index % size\n",
    "                fps_arr[i, n_index] += int(value)\n",
    "        return fps_arr \n"
   ]
  },
  {
   "cell_type": "code",
   "execution_count": 8,
   "metadata": {},
   "outputs": [],
   "source": [
    "# conver series to a list\n",
    "X_train_list = X_train.tolist()\n",
    "X_test_list = X_test.tolist()"
   ]
  },
  {
   "cell_type": "code",
   "execution_count": 9,
   "metadata": {},
   "outputs": [],
   "source": [
    "# get fingerprints for training data\n",
    "X_train_arr = get_morgan_fingerprints(X_train_list, size=2048, radius=3, useFeatures=True, useCounts=True)"
   ]
  },
  {
   "cell_type": "code",
   "execution_count": 10,
   "metadata": {},
   "outputs": [
    {
     "data": {
      "text/plain": [
       "(4739, 2048)"
      ]
     },
     "execution_count": 10,
     "metadata": {},
     "output_type": "execute_result"
    }
   ],
   "source": [
    "X_train_arr.shape"
   ]
  },
  {
   "cell_type": "code",
   "execution_count": 11,
   "metadata": {},
   "outputs": [],
   "source": [
    "# get fingerprints for test data\n",
    "X_test_arr = get_morgan_fingerprints(X_test_list, size=2048, radius=3, useFeatures=True, useCounts=True)"
   ]
  },
  {
   "cell_type": "markdown",
   "metadata": {},
   "source": [
    "# Model Training and Cross Validation\n",
    "Two types of model will be trained to predict the pChEMBL value: **Random Forest Regressor** and **Support Vector Regressor**. Data will not be scaled before training for the RFR model as tree based algorithms are invariant to scale. RandomizedSearchCV will be used to find the best set of parameters for both models. "
   ]
  },
  {
   "cell_type": "code",
   "execution_count": 12,
   "metadata": {},
   "outputs": [
    {
     "name": "stdout",
     "output_type": "stream",
     "text": [
      "{'n_estimators': [50, 74, 99, 124, 149, 174, 199, 224, 248, 273, 298, 323, 348, 373, 398, 423, 447, 472, 497, 522, 547, 572, 597, 622, 646, 671, 696, 721, 746, 771, 796, 821, 845, 870, 895, 920, 945, 970, 995, 1020, 1044, 1069, 1094, 1119, 1144, 1169, 1194, 1219, 1243, 1268, 1293, 1318, 1343, 1368, 1393, 1418, 1442, 1467, 1492, 1517, 1542, 1567, 1592, 1617, 1641, 1666, 1691, 1716, 1741, 1766, 1791, 1816, 1840, 1865, 1890, 1915, 1940, 1965, 1990, 2015, 2039, 2064, 2089, 2114, 2139, 2164, 2189, 2214, 2238, 2263, 2288, 2313, 2338, 2363, 2388, 2413, 2437, 2462, 2487, 2512, 2537, 2562, 2587, 2612, 2636, 2661, 2686, 2711, 2736, 2761, 2786, 2811, 2835, 2860, 2885, 2910, 2935, 2960, 2985, 3010, 3034, 3059, 3084, 3109, 3134, 3159, 3184, 3209, 3233, 3258, 3283, 3308, 3333, 3358, 3383, 3408, 3432, 3457, 3482, 3507, 3532, 3557, 3582, 3607, 3631, 3656, 3681, 3706, 3731, 3756, 3781, 3806, 3830, 3855, 3880, 3905, 3930, 3955, 3980, 4005, 4029, 4054, 4079, 4104, 4129, 4154, 4179, 4204, 4228, 4253, 4278, 4303, 4328, 4353, 4378, 4403, 4427, 4452, 4477, 4502, 4527, 4552, 4577, 4602, 4626, 4651, 4676, 4701, 4726, 4751, 4776, 4801, 4825, 4850, 4875, 4900, 4925, 4950, 4975, 5000], 'max_features': [None, 'sqrt', 'log2'], 'max_depth': [3, 4, 6, 8, 9, 11, 13, 14, 16, 18, 19, 21, 23, 24, 26, 28, 29, 31, 33, 34, 36, 38, 39, 41, 43, 44, 46, 48, 49, 51, 53, 54, 56, 58, 60, None], 'bootstrap': [True, False]}\n"
     ]
    }
   ],
   "source": [
    "# create a grid of parameters\n",
    "\n",
    "n_estimators = [int(x) for x in np.linspace(start = 50, stop = 5000, num = 200)]\n",
    "max_features = [None, 'sqrt','log2']\n",
    "max_depth = [int(x) for x in np.linspace(3, 60, num = 35)]\n",
    "max_depth.append(None)\n",
    "bootstrap = [True, False]\n",
    "\n",
    "random_grid = {'n_estimators': n_estimators,\n",
    "                'max_features': max_features,\n",
    "                'max_depth': max_depth,\n",
    "                'bootstrap': bootstrap}\n",
    "\n",
    "print(random_grid)"
   ]
  },
  {
   "cell_type": "code",
   "execution_count": 13,
   "metadata": {},
   "outputs": [],
   "source": [
    "# initialize a RFR model. n_jobs = 2 means the total no. of CPUs used = n -2\n",
    "rf = sklearn.ensemble.RandomForestRegressor(n_jobs = -2)"
   ]
  },
  {
   "cell_type": "code",
   "execution_count": 12,
   "metadata": {},
   "outputs": [],
   "source": [
    "# import libraries for cross validation\n",
    "\n",
    "from sklearn.model_selection import RandomizedSearchCV"
   ]
  },
  {
   "cell_type": "code",
   "execution_count": 14,
   "metadata": {
    "scrolled": true
   },
   "outputs": [
    {
     "name": "stdout",
     "output_type": "stream",
     "text": [
      "Fitting 5 folds for each of 10 candidates, totalling 50 fits\n",
      "[CV] n_estimators=2636, max_features=None, max_depth=34, bootstrap=False \n"
     ]
    },
    {
     "name": "stderr",
     "output_type": "stream",
     "text": [
      "[Parallel(n_jobs=1)]: Using backend SequentialBackend with 1 concurrent workers.\n"
     ]
    },
    {
     "name": "stdout",
     "output_type": "stream",
     "text": [
      "[CV]  n_estimators=2636, max_features=None, max_depth=34, bootstrap=False, total= 1.9min\n",
      "[CV] n_estimators=2636, max_features=None, max_depth=34, bootstrap=False \n"
     ]
    },
    {
     "name": "stderr",
     "output_type": "stream",
     "text": [
      "[Parallel(n_jobs=1)]: Done   1 out of   1 | elapsed:  1.9min remaining:    0.0s\n"
     ]
    },
    {
     "name": "stdout",
     "output_type": "stream",
     "text": [
      "[CV]  n_estimators=2636, max_features=None, max_depth=34, bootstrap=False, total= 2.0min\n",
      "[CV] n_estimators=2636, max_features=None, max_depth=34, bootstrap=False \n",
      "[CV]  n_estimators=2636, max_features=None, max_depth=34, bootstrap=False, total= 1.7min\n",
      "[CV] n_estimators=2636, max_features=None, max_depth=34, bootstrap=False \n",
      "[CV]  n_estimators=2636, max_features=None, max_depth=34, bootstrap=False, total= 1.9min\n",
      "[CV] n_estimators=2636, max_features=None, max_depth=34, bootstrap=False \n",
      "[CV]  n_estimators=2636, max_features=None, max_depth=34, bootstrap=False, total= 2.1min\n",
      "[CV] n_estimators=174, max_features=log2, max_depth=None, bootstrap=False \n",
      "[CV]  n_estimators=174, max_features=log2, max_depth=None, bootstrap=False, total=   0.8s\n",
      "[CV] n_estimators=174, max_features=log2, max_depth=None, bootstrap=False \n",
      "[CV]  n_estimators=174, max_features=log2, max_depth=None, bootstrap=False, total=   0.8s\n",
      "[CV] n_estimators=174, max_features=log2, max_depth=None, bootstrap=False \n",
      "[CV]  n_estimators=174, max_features=log2, max_depth=None, bootstrap=False, total=   0.7s\n",
      "[CV] n_estimators=174, max_features=log2, max_depth=None, bootstrap=False \n",
      "[CV]  n_estimators=174, max_features=log2, max_depth=None, bootstrap=False, total=   0.7s\n",
      "[CV] n_estimators=174, max_features=log2, max_depth=None, bootstrap=False \n",
      "[CV]  n_estimators=174, max_features=log2, max_depth=None, bootstrap=False, total=   0.7s\n",
      "[CV] n_estimators=348, max_features=None, max_depth=14, bootstrap=True \n",
      "[CV]  n_estimators=348, max_features=None, max_depth=14, bootstrap=True, total=   6.9s\n",
      "[CV] n_estimators=348, max_features=None, max_depth=14, bootstrap=True \n",
      "[CV]  n_estimators=348, max_features=None, max_depth=14, bootstrap=True, total=   6.5s\n",
      "[CV] n_estimators=348, max_features=None, max_depth=14, bootstrap=True \n",
      "[CV]  n_estimators=348, max_features=None, max_depth=14, bootstrap=True, total=   6.6s\n",
      "[CV] n_estimators=348, max_features=None, max_depth=14, bootstrap=True \n",
      "[CV]  n_estimators=348, max_features=None, max_depth=14, bootstrap=True, total=   6.4s\n",
      "[CV] n_estimators=348, max_features=None, max_depth=14, bootstrap=True \n",
      "[CV]  n_estimators=348, max_features=None, max_depth=14, bootstrap=True, total=   6.9s\n",
      "[CV] n_estimators=2587, max_features=None, max_depth=9, bootstrap=True \n",
      "[CV]  n_estimators=2587, max_features=None, max_depth=9, bootstrap=True, total=  39.1s\n",
      "[CV] n_estimators=2587, max_features=None, max_depth=9, bootstrap=True \n",
      "[CV]  n_estimators=2587, max_features=None, max_depth=9, bootstrap=True, total=  38.0s\n",
      "[CV] n_estimators=2587, max_features=None, max_depth=9, bootstrap=True \n",
      "[CV]  n_estimators=2587, max_features=None, max_depth=9, bootstrap=True, total=  37.6s\n",
      "[CV] n_estimators=2587, max_features=None, max_depth=9, bootstrap=True \n",
      "[CV]  n_estimators=2587, max_features=None, max_depth=9, bootstrap=True, total=  36.6s\n",
      "[CV] n_estimators=2587, max_features=None, max_depth=9, bootstrap=True \n",
      "[CV]  n_estimators=2587, max_features=None, max_depth=9, bootstrap=True, total=  37.2s\n",
      "[CV] n_estimators=646, max_features=sqrt, max_depth=23, bootstrap=False \n",
      "[CV]  n_estimators=646, max_features=sqrt, max_depth=23, bootstrap=False, total=   1.7s\n",
      "[CV] n_estimators=646, max_features=sqrt, max_depth=23, bootstrap=False \n",
      "[CV]  n_estimators=646, max_features=sqrt, max_depth=23, bootstrap=False, total=   1.6s\n",
      "[CV] n_estimators=646, max_features=sqrt, max_depth=23, bootstrap=False \n",
      "[CV]  n_estimators=646, max_features=sqrt, max_depth=23, bootstrap=False, total=   1.6s\n",
      "[CV] n_estimators=646, max_features=sqrt, max_depth=23, bootstrap=False \n",
      "[CV]  n_estimators=646, max_features=sqrt, max_depth=23, bootstrap=False, total=   1.7s\n",
      "[CV] n_estimators=646, max_features=sqrt, max_depth=23, bootstrap=False \n",
      "[CV]  n_estimators=646, max_features=sqrt, max_depth=23, bootstrap=False, total=   1.7s\n",
      "[CV] n_estimators=2487, max_features=None, max_depth=26, bootstrap=True \n",
      "[CV]  n_estimators=2487, max_features=None, max_depth=26, bootstrap=True, total= 1.0min\n",
      "[CV] n_estimators=2487, max_features=None, max_depth=26, bootstrap=True \n",
      "[CV]  n_estimators=2487, max_features=None, max_depth=26, bootstrap=True, total= 1.1min\n",
      "[CV] n_estimators=2487, max_features=None, max_depth=26, bootstrap=True \n",
      "[CV]  n_estimators=2487, max_features=None, max_depth=26, bootstrap=True, total= 1.1min\n",
      "[CV] n_estimators=2487, max_features=None, max_depth=26, bootstrap=True \n",
      "[CV]  n_estimators=2487, max_features=None, max_depth=26, bootstrap=True, total= 1.1min\n",
      "[CV] n_estimators=2487, max_features=None, max_depth=26, bootstrap=True \n",
      "[CV]  n_estimators=2487, max_features=None, max_depth=26, bootstrap=True, total= 1.0min\n",
      "[CV] n_estimators=995, max_features=None, max_depth=18, bootstrap=False \n",
      "[CV]  n_estimators=995, max_features=None, max_depth=18, bootstrap=False, total=  32.6s\n",
      "[CV] n_estimators=995, max_features=None, max_depth=18, bootstrap=False \n",
      "[CV]  n_estimators=995, max_features=None, max_depth=18, bootstrap=False, total=  34.3s\n",
      "[CV] n_estimators=995, max_features=None, max_depth=18, bootstrap=False \n",
      "[CV]  n_estimators=995, max_features=None, max_depth=18, bootstrap=False, total=  30.6s\n",
      "[CV] n_estimators=995, max_features=None, max_depth=18, bootstrap=False \n",
      "[CV]  n_estimators=995, max_features=None, max_depth=18, bootstrap=False, total=  34.3s\n",
      "[CV] n_estimators=995, max_features=None, max_depth=18, bootstrap=False \n",
      "[CV]  n_estimators=995, max_features=None, max_depth=18, bootstrap=False, total=  33.6s\n",
      "[CV] n_estimators=3482, max_features=log2, max_depth=36, bootstrap=False \n",
      "[CV]  n_estimators=3482, max_features=log2, max_depth=36, bootstrap=False, total=   6.5s\n",
      "[CV] n_estimators=3482, max_features=log2, max_depth=36, bootstrap=False \n",
      "[CV]  n_estimators=3482, max_features=log2, max_depth=36, bootstrap=False, total=   6.6s\n",
      "[CV] n_estimators=3482, max_features=log2, max_depth=36, bootstrap=False \n",
      "[CV]  n_estimators=3482, max_features=log2, max_depth=36, bootstrap=False, total=   6.6s\n",
      "[CV] n_estimators=3482, max_features=log2, max_depth=36, bootstrap=False \n",
      "[CV]  n_estimators=3482, max_features=log2, max_depth=36, bootstrap=False, total=   6.4s\n",
      "[CV] n_estimators=3482, max_features=log2, max_depth=36, bootstrap=False \n",
      "[CV]  n_estimators=3482, max_features=log2, max_depth=36, bootstrap=False, total=   6.5s\n",
      "[CV] n_estimators=2388, max_features=log2, max_depth=51, bootstrap=False \n",
      "[CV]  n_estimators=2388, max_features=log2, max_depth=51, bootstrap=False, total=   5.1s\n",
      "[CV] n_estimators=2388, max_features=log2, max_depth=51, bootstrap=False \n",
      "[CV]  n_estimators=2388, max_features=log2, max_depth=51, bootstrap=False, total=   5.4s\n",
      "[CV] n_estimators=2388, max_features=log2, max_depth=51, bootstrap=False \n",
      "[CV]  n_estimators=2388, max_features=log2, max_depth=51, bootstrap=False, total=   5.3s\n",
      "[CV] n_estimators=2388, max_features=log2, max_depth=51, bootstrap=False \n",
      "[CV]  n_estimators=2388, max_features=log2, max_depth=51, bootstrap=False, total=   5.3s\n",
      "[CV] n_estimators=2388, max_features=log2, max_depth=51, bootstrap=False \n",
      "[CV]  n_estimators=2388, max_features=log2, max_depth=51, bootstrap=False, total=   5.2s\n",
      "[CV] n_estimators=4502, max_features=None, max_depth=31, bootstrap=False \n",
      "[CV]  n_estimators=4502, max_features=None, max_depth=31, bootstrap=False, total= 3.2min\n",
      "[CV] n_estimators=4502, max_features=None, max_depth=31, bootstrap=False \n",
      "[CV]  n_estimators=4502, max_features=None, max_depth=31, bootstrap=False, total= 3.4min\n",
      "[CV] n_estimators=4502, max_features=None, max_depth=31, bootstrap=False \n",
      "[CV]  n_estimators=4502, max_features=None, max_depth=31, bootstrap=False, total= 3.0min\n",
      "[CV] n_estimators=4502, max_features=None, max_depth=31, bootstrap=False \n",
      "[CV]  n_estimators=4502, max_features=None, max_depth=31, bootstrap=False, total= 3.1min\n",
      "[CV] n_estimators=4502, max_features=None, max_depth=31, bootstrap=False \n",
      "[CV]  n_estimators=4502, max_features=None, max_depth=31, bootstrap=False, total= 3.5min\n"
     ]
    },
    {
     "name": "stderr",
     "output_type": "stream",
     "text": [
      "[Parallel(n_jobs=1)]: Done  50 out of  50 | elapsed: 38.7min finished\n"
     ]
    },
    {
     "data": {
      "text/plain": [
       "RandomizedSearchCV(cv=5, error_score='raise-deprecating',\n",
       "                   estimator=RandomForestRegressor(bootstrap=True,\n",
       "                                                   criterion='mse',\n",
       "                                                   max_depth=None,\n",
       "                                                   max_features='auto',\n",
       "                                                   max_leaf_nodes=None,\n",
       "                                                   min_impurity_decrease=0.0,\n",
       "                                                   min_impurity_split=None,\n",
       "                                                   min_samples_leaf=1,\n",
       "                                                   min_samples_split=2,\n",
       "                                                   min_weight_fraction_leaf=0.0,\n",
       "                                                   n_estimators='warn',\n",
       "                                                   n_jobs=-2, oob_score=False,\n",
       "                                                   random_state...\n",
       "                                        'max_depth': [3, 4, 6, 8, 9, 11, 13, 14,\n",
       "                                                      16, 18, 19, 21, 23, 24,\n",
       "                                                      26, 28, 29, 31, 33, 34,\n",
       "                                                      36, 38, 39, 41, 43, 44,\n",
       "                                                      46, 48, 49, 51, ...],\n",
       "                                        'max_features': [None, 'sqrt', 'log2'],\n",
       "                                        'n_estimators': [50, 74, 99, 124, 149,\n",
       "                                                         174, 199, 224, 248,\n",
       "                                                         273, 298, 323, 348,\n",
       "                                                         373, 398, 423, 447,\n",
       "                                                         472, 497, 522, 547,\n",
       "                                                         572, 597, 622, 646,\n",
       "                                                         671, 696, 721, 746,\n",
       "                                                         771, ...]},\n",
       "                   pre_dispatch='2*n_jobs', random_state=None, refit=True,\n",
       "                   return_train_score=False, scoring=None, verbose=2)"
      ]
     },
     "execution_count": 14,
     "metadata": {},
     "output_type": "execute_result"
    }
   ],
   "source": [
    "# begin cross validation, we will only try 50 fits in this case\n",
    "\n",
    "rf_random = RandomizedSearchCV(estimator = rf, param_distributions = random_grid, n_iter = 10,\n",
    "                               cv = 5, verbose = 2)\n",
    "\n",
    "rf_random.fit(X_train_arr, y_train)"
   ]
  },
  {
   "cell_type": "code",
   "execution_count": 15,
   "metadata": {},
   "outputs": [
    {
     "data": {
      "text/plain": [
       "{'n_estimators': 174,\n",
       " 'max_features': 'log2',\n",
       " 'max_depth': None,\n",
       " 'bootstrap': False}"
      ]
     },
     "execution_count": 15,
     "metadata": {},
     "output_type": "execute_result"
    }
   ],
   "source": [
    "# find the best set of parameters\n",
    "rf_random.best_params_"
   ]
  },
  {
   "cell_type": "code",
   "execution_count": 16,
   "metadata": {},
   "outputs": [],
   "source": [
    "params = rf_random.best_params_\n",
    "\n",
    "# add n_jobs as additional parameter\n",
    "params['n_jobs'] = -2"
   ]
  },
  {
   "cell_type": "code",
   "execution_count": 17,
   "metadata": {},
   "outputs": [
    {
     "data": {
      "text/plain": [
       "RandomForestRegressor(bootstrap=False, criterion='mse', max_depth=None,\n",
       "                      max_features='log2', max_leaf_nodes=None,\n",
       "                      min_impurity_decrease=0.0, min_impurity_split=None,\n",
       "                      min_samples_leaf=1, min_samples_split=2,\n",
       "                      min_weight_fraction_leaf=0.0, n_estimators=174, n_jobs=-2,\n",
       "                      oob_score=False, random_state=None, verbose=0,\n",
       "                      warm_start=False)"
      ]
     },
     "execution_count": 17,
     "metadata": {},
     "output_type": "execute_result"
    }
   ],
   "source": [
    "# create a final model with the best parameters\n",
    "rf_final = sklearn.ensemble.RandomForestRegressor(**params)\n",
    "\n",
    "rf_final.fit(X_train_arr, y_train)"
   ]
  },
  {
   "cell_type": "code",
   "execution_count": 18,
   "metadata": {},
   "outputs": [],
   "source": [
    "# check results with the test data\n",
    "y_pred_test = rf_final.predict(X= X_test_arr)\n",
    "MSE = mean_squared_error(y_test, y_pred_test)\n",
    "MAE = mean_absolute_error(y_test, y_pred_test)"
   ]
  },
  {
   "cell_type": "code",
   "execution_count": 19,
   "metadata": {},
   "outputs": [
    {
     "name": "stdout",
     "output_type": "stream",
     "text": [
      "Mean Squared Error: 0.42326810916018504\n",
      "Mean Absolute Error: 0.47489152098413306\n"
     ]
    }
   ],
   "source": [
    "print(\"Mean Squared Error: \" + str(MSE))\n",
    "print(\"Mean Absolute Error: \" + str(MAE))"
   ]
  },
  {
   "cell_type": "markdown",
   "metadata": {},
   "source": [
    "## Model Training Using SVR"
   ]
  },
  {
   "cell_type": "code",
   "execution_count": 13,
   "metadata": {},
   "outputs": [],
   "source": [
    "# import standard scaler\n",
    "from sklearn.preprocessing import StandardScaler"
   ]
  },
  {
   "cell_type": "code",
   "execution_count": 14,
   "metadata": {},
   "outputs": [],
   "source": [
    "# apply scaling to train and test data\n",
    "\n",
    "sc = StandardScaler()\n",
    "X_train_sc = sc.fit_transform(X_train_arr)\n",
    "X_test_sc = sc.transform(X_test_arr)"
   ]
  },
  {
   "cell_type": "code",
   "execution_count": 15,
   "metadata": {},
   "outputs": [
    {
     "name": "stdout",
     "output_type": "stream",
     "text": [
      "{'kernel': ['poly', 'rbf', 'sigmoid'], 'gamma': ['scale', 'auto'], 'C': [0.02, 0.6258585858585859, 1.2317171717171718, 1.8375757575757576, 2.4434343434343435, 3.0492929292929296, 3.6551515151515153, 4.2610101010101005, 4.866868686868687, 5.472727272727273, 6.078585858585859, 6.684444444444444, 7.29030303030303, 7.896161616161616, 8.502020202020201, 9.107878787878787, 9.713737373737374, 10.31959595959596, 10.925454545454546, 11.531313131313132, 12.137171717171718, 12.743030303030302, 13.348888888888888, 13.954747474747474, 14.56060606060606, 15.166464646464647, 15.772323232323233, 16.37818181818182, 16.984040404040403, 17.58989898989899, 18.195757575757575, 18.801616161616163, 19.407474747474748, 20.013333333333332, 20.61919191919192, 21.225050505050504, 21.830909090909092, 22.436767676767676, 23.042626262626264, 23.64848484848485, 24.254343434343436, 24.86020202020202, 25.466060606060605, 26.071919191919193, 26.677777777777777, 27.283636363636365, 27.88949494949495, 28.495353535353537, 29.10121212121212, 29.707070707070706, 30.312929292929294, 30.918787878787878, 31.524646464646466, 32.13050505050506, 32.73636363636364, 33.342222222222226, 33.94808080808081, 34.553939393939395, 35.159797979797986, 35.76565656565657, 36.371515151515155, 36.97737373737374, 37.58323232323233, 38.189090909090915, 38.7949494949495, 39.40080808080808, 40.00666666666667, 40.61252525252526, 41.21838383838384, 41.82424242424243, 42.43010101010101, 43.0359595959596, 43.64181818181819, 44.24767676767677, 44.85353535353536, 45.45939393939394, 46.06525252525253, 46.67111111111112, 47.2769696969697, 47.882828282828285, 48.48868686868688, 49.09454545454546, 49.700404040404045, 50.30626262626263, 50.912121212121214, 51.517979797979805, 52.12383838383839, 52.729696969696974, 53.33555555555556, 53.94141414141414, 54.547272727272734, 55.15313131313132, 55.7589898989899, 56.36484848484849, 56.97070707070708, 57.57656565656566, 58.18242424242425, 58.78828282828283, 59.394141414141416, 60.0]}\n"
     ]
    }
   ],
   "source": [
    "# create a grid for cross validation\n",
    "\n",
    "kernel = ['poly','rbf','sigmoid']\n",
    "gamma = ['scale','auto']\n",
    "C = [float(x) for x in np.linspace(start = 0.02, stop = 60, num = 100)]\n",
    "\n",
    "sv_grid = {'kernel': kernel,\n",
    "        'gamma': gamma,\n",
    "        'C': C}\n",
    "\n",
    "print(sv_grid)"
   ]
  },
  {
   "cell_type": "code",
   "execution_count": 16,
   "metadata": {},
   "outputs": [],
   "source": [
    "# create an instance of an SVR\n",
    "\n",
    "from sklearn import svm\n",
    "\n",
    "sv = svm.SVR()"
   ]
  },
  {
   "cell_type": "code",
   "execution_count": 17,
   "metadata": {},
   "outputs": [
    {
     "name": "stdout",
     "output_type": "stream",
     "text": [
      "Fitting 5 folds for each of 10 candidates, totalling 50 fits\n"
     ]
    },
    {
     "name": "stderr",
     "output_type": "stream",
     "text": [
      "[Parallel(n_jobs=-5)]: Using backend LokyBackend with 68 concurrent workers.\n",
      "[Parallel(n_jobs=-5)]: Done  19 out of  50 | elapsed:  1.2min remaining:  2.0min\n",
      "[Parallel(n_jobs=-5)]: Done  45 out of  50 | elapsed:  1.4min remaining:    9.6s\n",
      "[Parallel(n_jobs=-5)]: Done  50 out of  50 | elapsed:  1.5min finished\n"
     ]
    },
    {
     "data": {
      "text/plain": [
       "RandomizedSearchCV(cv=5, error_score='raise-deprecating',\n",
       "                   estimator=SVR(C=1.0, cache_size=200, coef0=0.0, degree=3,\n",
       "                                 epsilon=0.1, gamma='auto_deprecated',\n",
       "                                 kernel='rbf', max_iter=-1, shrinking=True,\n",
       "                                 tol=0.001, verbose=False),\n",
       "                   iid='warn', n_iter=10, n_jobs=-5,\n",
       "                   param_distributions={'C': [0.02, 0.6258585858585859,\n",
       "                                              1.2317171717171718,\n",
       "                                              1.8375757575757576,\n",
       "                                              2.4434343434343435,\n",
       "                                              3...\n",
       "                                              12.137171717171718,\n",
       "                                              12.743030303030302,\n",
       "                                              13.348888888888888,\n",
       "                                              13.954747474747474,\n",
       "                                              14.56060606060606,\n",
       "                                              15.166464646464647,\n",
       "                                              15.772323232323233,\n",
       "                                              16.37818181818182,\n",
       "                                              16.984040404040403,\n",
       "                                              17.58989898989899, ...],\n",
       "                                        'gamma': ['scale', 'auto'],\n",
       "                                        'kernel': ['poly', 'rbf', 'sigmoid']},\n",
       "                   pre_dispatch='2*n_jobs', random_state=None, refit=True,\n",
       "                   return_train_score=False, scoring=None, verbose=2)"
      ]
     },
     "execution_count": 17,
     "metadata": {},
     "output_type": "execute_result"
    }
   ],
   "source": [
    "# start the cross validation process\n",
    "\n",
    "sv_random = RandomizedSearchCV(estimator = sv, param_distributions = sv_grid, n_iter = 10,\n",
    "                               cv = 5, verbose = 2, n_jobs = -5)\n",
    "\n",
    "sv_random.fit(X_train_sc, y_train)"
   ]
  },
  {
   "cell_type": "code",
   "execution_count": 18,
   "metadata": {},
   "outputs": [
    {
     "data": {
      "text/plain": [
       "{'kernel': 'rbf', 'gamma': 'scale', 'C': 3.6551515151515153}"
      ]
     },
     "execution_count": 18,
     "metadata": {},
     "output_type": "execute_result"
    }
   ],
   "source": [
    "# print the best parameters\n",
    "sv_random.best_params_"
   ]
  },
  {
   "cell_type": "code",
   "execution_count": 19,
   "metadata": {},
   "outputs": [],
   "source": [
    "params = sv_random.best_params_"
   ]
  },
  {
   "cell_type": "code",
   "execution_count": 20,
   "metadata": {},
   "outputs": [
    {
     "data": {
      "text/plain": [
       "SVR(C=3.6551515151515153, cache_size=200, coef0=0.0, degree=3, epsilon=0.1,\n",
       "    gamma='scale', kernel='rbf', max_iter=-1, shrinking=True, tol=0.001,\n",
       "    verbose=False)"
      ]
     },
     "execution_count": 20,
     "metadata": {},
     "output_type": "execute_result"
    }
   ],
   "source": [
    "# create a final model with the best parameters\n",
    "sv_final = svm.SVR(**params)\n",
    "\n",
    "sv_final.fit(X_train_sc, y_train)"
   ]
  },
  {
   "cell_type": "code",
   "execution_count": 22,
   "metadata": {},
   "outputs": [
    {
     "name": "stdout",
     "output_type": "stream",
     "text": [
      "Mean Squared Error: 0.41593245329591155\n",
      "Mean Absolute Error: 0.48367279772093685\n"
     ]
    }
   ],
   "source": [
    "# check results with the test data\n",
    "y_pred_test = sv_final.predict(X= X_test_sc)\n",
    "MSE = mean_squared_error(y_test, y_pred_test)\n",
    "MAE = mean_absolute_error(y_test, y_pred_test)\n",
    "print(\"Mean Squared Error: \" + str(MSE))\n",
    "print(\"Mean Absolute Error: \" + str(MAE))"
   ]
  },
  {
   "cell_type": "markdown",
   "metadata": {},
   "source": [
    "## Save final models"
   ]
  },
  {
   "cell_type": "code",
   "execution_count": null,
   "metadata": {},
   "outputs": [],
   "source": [
    "with open(\"models/DRD2_pChEMBL_rf_predictor.pkl\", \"wb\") as f:\n",
    "    pickle.dump(rf_final, f)\n",
    "    \n",
    "with open(\"models/DRD2_pChEMBL_sv_predictor.pkl\", \"wb\") as f:\n",
    "    pickle.dump(sv_final, f)"
   ]
  }
 ],
 "metadata": {
  "kernelspec": {
   "display_name": "RC_v3",
   "language": "python",
   "name": "reinventcommunity"
  },
  "language_info": {
   "codemirror_mode": {
    "name": "ipython",
    "version": 3
   },
   "file_extension": ".py",
   "mimetype": "text/x-python",
   "name": "python",
   "nbconvert_exporter": "python",
   "pygments_lexer": "ipython3",
   "version": "3.7.6"
  }
 },
 "nbformat": 4,
 "nbformat_minor": 2
}
