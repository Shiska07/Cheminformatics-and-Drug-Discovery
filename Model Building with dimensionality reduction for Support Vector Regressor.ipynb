{
 "cells": [
  {
   "cell_type": "markdown",
   "metadata": {},
   "source": [
    "## Dimensionality Reduction using Princial Component Analysis(PCA)\n",
    "\n",
    "Compounds represented as Simplified Molecular Inpunt Line Entry System(SMILES) can be converted from their string format to numerical vector representations known as 'molecular fingerprints'. These fingerprints are typically 1024 to 2048 bits long with each bit representing a dimension. In this notebook, Principal Component Analysis(PCA) will be applied to the training data to obtain a new set of dimensions(also known as principal components). PCA is one of the most commonly used unsupervised machine learning algorithms for dimensionality reduction. By generating new principal components, it allows us to explain the variation in data using fewer dimensions."
   ]
  },
  {
   "cell_type": "code",
   "execution_count": 27,
   "metadata": {},
   "outputs": [],
   "source": [
    "import os\n",
    "import pandas as pd\n",
    "import numpy as np\n",
    "import random\n",
    "import pickle\n",
    "import sklearn.ensemble\n",
    "from sklearn.metrics import roc_auc_score, mean_squared_error, mean_absolute_error\n",
    "\n",
    "from rdkit import Chem, DataStructs\n",
    "import rdkit.Chem as rkc\n",
    "import rdkit.Chem.AllChem as rkac\n",
    "import rdkit.Chem.Scaffolds.MurckoScaffold as mrks\n",
    "from rdkit.Chem import AllChem, MACCSkeys, PandasTools\n",
    "from rdkit.Avalon import pyAvalonTools\n",
    "\n",
    "import matplotlib.pyplot as plt\n",
    "import seaborn as sns"
   ]
  },
  {
   "cell_type": "code",
   "execution_count": 28,
   "metadata": {},
   "outputs": [
    {
     "name": "stdout",
     "output_type": "stream",
     "text": [
      "<class 'pandas.core.frame.DataFrame'>\n",
      "RangeIndex: 6770 entries, 0 to 6769\n",
      "Data columns (total 2 columns):\n",
      " #   Column     Non-Null Count  Dtype  \n",
      "---  ------     --------------  -----  \n",
      " 0   canonical  6770 non-null   object \n",
      " 1   pChEMBL    6770 non-null   float64\n",
      "dtypes: float64(1), object(1)\n",
      "memory usage: 105.9+ KB\n"
     ]
    }
   ],
   "source": [
    "# provide path to the dataset\n",
    "path = 'Data/DRD2_clean_data.csv'\n",
    "\n",
    "df = pd.read_csv(path)\n",
    "df.info()"
   ]
  },
  {
   "cell_type": "code",
   "execution_count": 29,
   "metadata": {},
   "outputs": [
    {
     "data": {
      "text/html": [
       "<div>\n",
       "<style scoped>\n",
       "    .dataframe tbody tr th:only-of-type {\n",
       "        vertical-align: middle;\n",
       "    }\n",
       "\n",
       "    .dataframe tbody tr th {\n",
       "        vertical-align: top;\n",
       "    }\n",
       "\n",
       "    .dataframe thead th {\n",
       "        text-align: right;\n",
       "    }\n",
       "</style>\n",
       "<table border=\"1\" class=\"dataframe\">\n",
       "  <thead>\n",
       "    <tr style=\"text-align: right;\">\n",
       "      <th></th>\n",
       "      <th>canonical</th>\n",
       "      <th>pChEMBL</th>\n",
       "    </tr>\n",
       "  </thead>\n",
       "  <tbody>\n",
       "    <tr>\n",
       "      <th>0</th>\n",
       "      <td>CCCSc1nnc(-c2ccccc2)n1C</td>\n",
       "      <td>3.74</td>\n",
       "    </tr>\n",
       "    <tr>\n",
       "      <th>1</th>\n",
       "      <td>Cc1ccc(CNCC2(F)CCN(C(=O)c3cc(Br)cs3)CC2)nc1</td>\n",
       "      <td>4.00</td>\n",
       "    </tr>\n",
       "    <tr>\n",
       "      <th>2</th>\n",
       "      <td>COc1ccccc1N1CCC2(CCNCC2)CC1</td>\n",
       "      <td>4.00</td>\n",
       "    </tr>\n",
       "    <tr>\n",
       "      <th>3</th>\n",
       "      <td>Cl.NCCc1ccc(O)c(O)c1</td>\n",
       "      <td>4.00</td>\n",
       "    </tr>\n",
       "    <tr>\n",
       "      <th>4</th>\n",
       "      <td>Cn1c(SCCCN2CCCCC2)nnc1-c1ccccc1</td>\n",
       "      <td>4.01</td>\n",
       "    </tr>\n",
       "  </tbody>\n",
       "</table>\n",
       "</div>"
      ],
      "text/plain": [
       "                                     canonical  pChEMBL\n",
       "0                      CCCSc1nnc(-c2ccccc2)n1C     3.74\n",
       "1  Cc1ccc(CNCC2(F)CCN(C(=O)c3cc(Br)cs3)CC2)nc1     4.00\n",
       "2                  COc1ccccc1N1CCC2(CCNCC2)CC1     4.00\n",
       "3                         Cl.NCCc1ccc(O)c(O)c1     4.00\n",
       "4              Cn1c(SCCCN2CCCCC2)nnc1-c1ccccc1     4.01"
      ]
     },
     "execution_count": 29,
     "metadata": {},
     "output_type": "execute_result"
    }
   ],
   "source": [
    "df.head()"
   ]
  },
  {
   "cell_type": "code",
   "execution_count": 30,
   "metadata": {},
   "outputs": [],
   "source": [
    "X = df['canonical']\n",
    "\n",
    "# note that the target label that we are trying to predic are pChEMBL values in this case\n",
    "y = df['pChEMBL']"
   ]
  },
  {
   "cell_type": "code",
   "execution_count": 31,
   "metadata": {},
   "outputs": [],
   "source": [
    "# divide data into train and test set\n",
    "from sklearn.model_selection import train_test_split\n",
    "\n",
    "X_train, X_test, y_train, y_test = train_test_split(X, y, test_size=0.15)"
   ]
  },
  {
   "cell_type": "code",
   "execution_count": 32,
   "metadata": {},
   "outputs": [
    {
     "name": "stdout",
     "output_type": "stream",
     "text": [
      "5754\n",
      "1016\n"
     ]
    }
   ],
   "source": [
    "print(X_train.size)\n",
    "print(X_test.size)"
   ]
  },
  {
   "cell_type": "markdown",
   "metadata": {},
   "source": [
    "## Creating Circular Fingerprints"
   ]
  },
  {
   "cell_type": "code",
   "execution_count": 33,
   "metadata": {},
   "outputs": [],
   "source": [
    "# convers a list of SMILEs to a list of mols\n",
    "def smi_to_mols(smi_list):\n",
    "    mols_list = [Chem.MolFromSmiles(smile) for smile in smi_list]\n",
    "    return mols_list\n",
    "\n",
    "\n",
    "# returns morgan fingerprints as a 2D array for a list of SMILE strings\n",
    "def get_morgan_fingerprints(smi_list, size, radius, useFeatures, useCounts=True):\n",
    "        mols = smi_to_mols(smi_list)\n",
    "        fps = [AllChem.GetMorganFingerprint(mol, radius, useCounts=useCounts, useFeatures=useFeatures) for mol in mols]\n",
    "        fps_arr = np.zeros((len(fps), size), np.int32)\n",
    "        for i, fp in enumerate(fps):\n",
    "            for index, value in fp.GetNonzeroElements().items():\n",
    "                n_index = index % size\n",
    "                fps_arr[i, n_index] += int(value)\n",
    "        return fps_arr "
   ]
  },
  {
   "cell_type": "code",
   "execution_count": 34,
   "metadata": {},
   "outputs": [],
   "source": [
    "# conver series to a list\n",
    "X_train_list = X_train.tolist()\n",
    "X_test_list = X_test.tolist()"
   ]
  },
  {
   "cell_type": "code",
   "execution_count": 35,
   "metadata": {},
   "outputs": [],
   "source": [
    "# get fingerprints for training and test data\n",
    "X_train_arr = get_morgan_fingerprints(X_train_list, size=2048, radius=2, useFeatures=True, useCounts=True)\n",
    "X_test_arr = get_morgan_fingerprints(X_test_list, size=2048, radius=2, useFeatures=True, useCounts=True)"
   ]
  },
  {
   "cell_type": "code",
   "execution_count": 36,
   "metadata": {},
   "outputs": [
    {
     "data": {
      "text/plain": [
       "(5754, 2048)"
      ]
     },
     "execution_count": 36,
     "metadata": {},
     "output_type": "execute_result"
    }
   ],
   "source": [
    "# check the number of dimensions\n",
    "X_train_arr.shape"
   ]
  },
  {
   "cell_type": "markdown",
   "metadata": {},
   "source": [
    "## Dimensionality Reduction with PCA"
   ]
  },
  {
   "cell_type": "code",
   "execution_count": 37,
   "metadata": {},
   "outputs": [],
   "source": [
    "from sklearn.decomposition import PCA\n",
    "from tqdm import tqdm\n",
    "from sklearn.preprocessing import StandardScaler"
   ]
  },
  {
   "cell_type": "code",
   "execution_count": 38,
   "metadata": {},
   "outputs": [],
   "source": [
    "# apply scaling to train and test data\n",
    "sc = StandardScaler()\n",
    "X_train = sc.fit_transform(X_train_arr)\n",
    "X_test = sc.transform(X_test_arr)"
   ]
  },
  {
   "cell_type": "code",
   "execution_count": 39,
   "metadata": {},
   "outputs": [],
   "source": [
    "# calculates the amount of variation explained by a each number of components\n",
    "def get_component_performance(fps_arr):\n",
    "    result = []\n",
    "    for n in tqdm(range(2,502)):\n",
    "        pca = PCA(n_components = n)\n",
    "        cmpts = pca.fit_transform(fps_arr)\n",
    "        variance = np.sum(pca.explained_variance_ratio_)\n",
    "        result.append([n, variance])\n",
    "    return result\n"
   ]
  },
  {
   "cell_type": "code",
   "execution_count": 40,
   "metadata": {},
   "outputs": [
    {
     "name": "stderr",
     "output_type": "stream",
     "text": [
      "100%|██████████| 500/500 [23:27<00:00,  2.82s/it]\n"
     ]
    }
   ],
   "source": [
    "results = get_component_performance(X_train)"
   ]
  },
  {
   "cell_type": "code",
   "execution_count": 41,
   "metadata": {},
   "outputs": [],
   "source": [
    "# create a df to store the amount of variance explaind by all number of components\n",
    "results_df = pd.DataFrame(results, columns = ['Components','Variance'])"
   ]
  },
  {
   "cell_type": "code",
   "execution_count": 42,
   "metadata": {},
   "outputs": [
    {
     "data": {
      "text/html": [
       "<div>\n",
       "<style scoped>\n",
       "    .dataframe tbody tr th:only-of-type {\n",
       "        vertical-align: middle;\n",
       "    }\n",
       "\n",
       "    .dataframe tbody tr th {\n",
       "        vertical-align: top;\n",
       "    }\n",
       "\n",
       "    .dataframe thead th {\n",
       "        text-align: right;\n",
       "    }\n",
       "</style>\n",
       "<table border=\"1\" class=\"dataframe\">\n",
       "  <thead>\n",
       "    <tr style=\"text-align: right;\">\n",
       "      <th></th>\n",
       "      <th>Components</th>\n",
       "      <th>Variance</th>\n",
       "    </tr>\n",
       "  </thead>\n",
       "  <tbody>\n",
       "    <tr>\n",
       "      <th>495</th>\n",
       "      <td>497</td>\n",
       "      <td>0.787050</td>\n",
       "    </tr>\n",
       "    <tr>\n",
       "      <th>496</th>\n",
       "      <td>498</td>\n",
       "      <td>0.787774</td>\n",
       "    </tr>\n",
       "    <tr>\n",
       "      <th>497</th>\n",
       "      <td>499</td>\n",
       "      <td>0.788444</td>\n",
       "    </tr>\n",
       "    <tr>\n",
       "      <th>498</th>\n",
       "      <td>500</td>\n",
       "      <td>0.789175</td>\n",
       "    </tr>\n",
       "    <tr>\n",
       "      <th>499</th>\n",
       "      <td>501</td>\n",
       "      <td>0.789811</td>\n",
       "    </tr>\n",
       "  </tbody>\n",
       "</table>\n",
       "</div>"
      ],
      "text/plain": [
       "     Components  Variance\n",
       "495         497  0.787050\n",
       "496         498  0.787774\n",
       "497         499  0.788444\n",
       "498         500  0.789175\n",
       "499         501  0.789811"
      ]
     },
     "execution_count": 42,
     "metadata": {},
     "output_type": "execute_result"
    }
   ],
   "source": [
    "# print results df for explained variance\n",
    "results_df.tail()"
   ]
  },
  {
   "cell_type": "code",
   "execution_count": 43,
   "metadata": {},
   "outputs": [
    {
     "data": {
      "image/png": "[encoded data removed]",
      "text/plain": [
       "<Figure size 432x288 with 1 Axes>"
      ]
     },
     "metadata": {
      "needs_background": "light"
     },
     "output_type": "display_data"
    }
   ],
   "source": [
    "ax = sns.lineplot(data = results_df, x = 'Components', y = 'Variance')"
   ]
  },
  {
   "cell_type": "code",
   "execution_count": 53,
   "metadata": {},
   "outputs": [],
   "source": [
    "# fit the PCA using train data\n",
    "pca = PCA(n_components = 601)\n",
    "train_cmpts = pca.fit_transform(X_train)"
   ]
  },
  {
   "cell_type": "code",
   "execution_count": 54,
   "metadata": {},
   "outputs": [],
   "source": [
    "# transform the test data\n",
    "test_cmpts = pca.transform(X_test)"
   ]
  },
  {
   "cell_type": "code",
   "execution_count": 55,
   "metadata": {},
   "outputs": [
    {
     "name": "stdout",
     "output_type": "stream",
     "text": [
      "(5754, 601)\n",
      "(1016, 601)\n"
     ]
    }
   ],
   "source": [
    "print(train_cmpts.shape)\n",
    "print(test_cmpts.shape)"
   ]
  },
  {
   "cell_type": "markdown",
   "metadata": {},
   "source": [
    "## Support Vector Regressor"
   ]
  },
  {
   "cell_type": "code",
   "execution_count": 56,
   "metadata": {},
   "outputs": [
    {
     "name": "stdout",
     "output_type": "stream",
     "text": [
      "{'kernel': ['poly', 'rbf', 'sigmoid'], 'gamma': ['scale', 'auto'], 'C': [0.02, 0.5248484848484848, 1.0296969696969696, 1.5345454545454542, 2.039393939393939, 2.544242424242424, 3.0490909090909084, 3.5539393939393933, 4.058787878787878, 4.563636363636363, 5.0684848484848475, 5.573333333333332, 6.078181818181816, 6.583030303030301, 7.087878787878786, 7.592727272727271, 8.097575757575756, 8.60242424242424, 9.107272727272726, 9.61212121212121, 10.116969696969695, 10.62181818181818, 11.126666666666665, 11.63151515151515, 12.136363636363633, 12.641212121212119, 13.146060606060603, 13.650909090909089, 14.155757575757573, 14.660606060606058, 15.165454545454542, 15.670303030303028, 16.175151515151512, 16.679999999999996, 17.18484848484848, 17.689696969696968, 18.19454545454545, 18.699393939393936, 19.20424242424242, 19.709090909090907, 20.21393939393939, 20.718787878787875, 21.22363636363636, 21.728484848484843, 22.23333333333333, 22.738181818181815, 23.2430303030303, 23.747878787878783, 24.252727272727267, 24.757575757575754, 25.26242424242424, 25.767272727272722, 26.272121212121206, 26.776969696969694, 27.281818181818178, 27.78666666666666, 28.291515151515146, 28.79636363636363, 29.301212121212117, 29.8060606060606, 30.310909090909085, 30.81575757575757, 31.320606060606057, 31.82545454545454, 32.33030303030303, 32.835151515151516, 33.339999999999996, 33.844848484848484, 34.349696969696964, 34.85454545454545, 35.35939393939394, 35.86424242424242, 36.36909090909091, 36.87393939393939, 37.378787878787875, 37.88363636363636, 38.38848484848484, 38.89333333333333, 39.39818181818182, 39.9030303030303, 40.407878787878786, 40.91272727272727, 41.417575757575754, 41.92242424242424, 42.42727272727272, 42.93212121212121, 43.43696969696969, 43.94181818181818, 44.446666666666665, 44.951515151515146, 45.45636363636363, 45.961212121212114, 46.4660606060606, 46.97090909090909, 47.47575757575757, 47.98060606060606, 48.48545454545454, 48.990303030303025, 49.49515151515151, 50.0]}\n"
     ]
    }
   ],
   "source": [
    "import sklearn.svm\n",
    "\n",
    "# create an instance of SVR\n",
    "sv = sklearn.svm.SVR()\n",
    "\n",
    "# create a grid for cross validation\n",
    "kernel = ['poly','rbf','sigmoid']\n",
    "gamma = ['scale','auto']\n",
    "C = [float(x) for x in np.linspace(start = 0.02, stop = 50, num = 100)]\n",
    "\n",
    "sv_grid = {'kernel': kernel,\n",
    "        'gamma': gamma,\n",
    "        'C': C}\n",
    "print(sv_grid)"
   ]
  },
  {
   "cell_type": "code",
   "execution_count": 57,
   "metadata": {},
   "outputs": [
    {
     "name": "stdout",
     "output_type": "stream",
     "text": [
      "Fitting 3 folds for each of 40 candidates, totalling 120 fits\n",
      "[CV] kernel=rbf, gamma=auto, C=8.60242424242424 ......................\n"
     ]
    },
    {
     "name": "stderr",
     "output_type": "stream",
     "text": [
      "[Parallel(n_jobs=1)]: Using backend SequentialBackend with 1 concurrent workers.\n"
     ]
    },
    {
     "name": "stdout",
     "output_type": "stream",
     "text": [
      "[CV] ....... kernel=rbf, gamma=auto, C=8.60242424242424, total=  14.3s\n",
      "[CV] kernel=rbf, gamma=auto, C=8.60242424242424 ......................\n"
     ]
    },
    {
     "name": "stderr",
     "output_type": "stream",
     "text": [
      "[Parallel(n_jobs=1)]: Done   1 out of   1 | elapsed:   14.3s remaining:    0.0s\n"
     ]
    },
    {
     "name": "stdout",
     "output_type": "stream",
     "text": [
      "[CV] ....... kernel=rbf, gamma=auto, C=8.60242424242424, total=  15.3s\n",
      "[CV] kernel=rbf, gamma=auto, C=8.60242424242424 ......................\n",
      "[CV] ....... kernel=rbf, gamma=auto, C=8.60242424242424, total=  14.7s\n",
      "[CV] kernel=rbf, gamma=auto, C=48.48545454545454 .....................\n",
      "[CV] ...... kernel=rbf, gamma=auto, C=48.48545454545454, total=  14.8s\n",
      "[CV] kernel=rbf, gamma=auto, C=48.48545454545454 .....................\n",
      "[CV] ...... kernel=rbf, gamma=auto, C=48.48545454545454, total=  15.1s\n",
      "[CV] kernel=rbf, gamma=auto, C=48.48545454545454 .....................\n",
      "[CV] ...... kernel=rbf, gamma=auto, C=48.48545454545454, total=  14.3s\n",
      "[CV] kernel=rbf, gamma=scale, C=46.97090909090909 ....................\n",
      "[CV] ..... kernel=rbf, gamma=scale, C=46.97090909090909, total=  15.2s\n",
      "[CV] kernel=rbf, gamma=scale, C=46.97090909090909 ....................\n",
      "[CV] ..... kernel=rbf, gamma=scale, C=46.97090909090909, total=  15.4s\n",
      "[CV] kernel=rbf, gamma=scale, C=46.97090909090909 ....................\n",
      "[CV] ..... kernel=rbf, gamma=scale, C=46.97090909090909, total=  15.8s\n",
      "[CV] kernel=poly, gamma=auto, C=8.097575757575756 ....................\n",
      "[CV] ..... kernel=poly, gamma=auto, C=8.097575757575756, total=  14.9s\n",
      "[CV] kernel=poly, gamma=auto, C=8.097575757575756 ....................\n",
      "[CV] ..... kernel=poly, gamma=auto, C=8.097575757575756, total=  14.7s\n",
      "[CV] kernel=poly, gamma=auto, C=8.097575757575756 ....................\n",
      "[CV] ..... kernel=poly, gamma=auto, C=8.097575757575756, total=  14.1s\n",
      "[CV] kernel=poly, gamma=scale, C=48.48545454545454 ...................\n",
      "[CV] .... kernel=poly, gamma=scale, C=48.48545454545454, total=  14.2s\n",
      "[CV] kernel=poly, gamma=scale, C=48.48545454545454 ...................\n",
      "[CV] .... kernel=poly, gamma=scale, C=48.48545454545454, total=  14.1s\n",
      "[CV] kernel=poly, gamma=scale, C=48.48545454545454 ...................\n",
      "[CV] .... kernel=poly, gamma=scale, C=48.48545454545454, total=  14.1s\n",
      "[CV] kernel=rbf, gamma=auto, C=28.291515151515146 ....................\n",
      "[CV] ..... kernel=rbf, gamma=auto, C=28.291515151515146, total=  15.1s\n",
      "[CV] kernel=rbf, gamma=auto, C=28.291515151515146 ....................\n",
      "[CV] ..... kernel=rbf, gamma=auto, C=28.291515151515146, total=  14.9s\n",
      "[CV] kernel=rbf, gamma=auto, C=28.291515151515146 ....................\n",
      "[CV] ..... kernel=rbf, gamma=auto, C=28.291515151515146, total=  15.0s\n",
      "[CV] kernel=rbf, gamma=auto, C=34.85454545454545 .....................\n",
      "[CV] ...... kernel=rbf, gamma=auto, C=34.85454545454545, total=  15.0s\n",
      "[CV] kernel=rbf, gamma=auto, C=34.85454545454545 .....................\n",
      "[CV] ...... kernel=rbf, gamma=auto, C=34.85454545454545, total=  14.8s\n",
      "[CV] kernel=rbf, gamma=auto, C=34.85454545454545 .....................\n",
      "[CV] ...... kernel=rbf, gamma=auto, C=34.85454545454545, total=  14.8s\n",
      "[CV] kernel=rbf, gamma=auto, C=23.2430303030303 ......................\n",
      "[CV] ....... kernel=rbf, gamma=auto, C=23.2430303030303, total=  14.8s\n",
      "[CV] kernel=rbf, gamma=auto, C=23.2430303030303 ......................\n",
      "[CV] ....... kernel=rbf, gamma=auto, C=23.2430303030303, total=  14.8s\n",
      "[CV] kernel=rbf, gamma=auto, C=23.2430303030303 ......................\n",
      "[CV] ....... kernel=rbf, gamma=auto, C=23.2430303030303, total=  14.6s\n",
      "[CV] kernel=rbf, gamma=scale, C=9.107272727272726 ....................\n",
      "[CV] ..... kernel=rbf, gamma=scale, C=9.107272727272726, total=  14.6s\n",
      "[CV] kernel=rbf, gamma=scale, C=9.107272727272726 ....................\n",
      "[CV] ..... kernel=rbf, gamma=scale, C=9.107272727272726, total=  14.7s\n",
      "[CV] kernel=rbf, gamma=scale, C=9.107272727272726 ....................\n",
      "[CV] ..... kernel=rbf, gamma=scale, C=9.107272727272726, total=  14.5s\n",
      "[CV] kernel=rbf, gamma=auto, C=32.835151515151516 ....................\n",
      "[CV] ..... kernel=rbf, gamma=auto, C=32.835151515151516, total=  14.9s\n",
      "[CV] kernel=rbf, gamma=auto, C=32.835151515151516 ....................\n",
      "[CV] ..... kernel=rbf, gamma=auto, C=32.835151515151516, total=  14.8s\n",
      "[CV] kernel=rbf, gamma=auto, C=32.835151515151516 ....................\n",
      "[CV] ..... kernel=rbf, gamma=auto, C=32.835151515151516, total=  14.8s\n",
      "[CV] kernel=rbf, gamma=scale, C=44.951515151515146 ...................\n",
      "[CV] .... kernel=rbf, gamma=scale, C=44.951515151515146, total=  15.1s\n",
      "[CV] kernel=rbf, gamma=scale, C=44.951515151515146 ...................\n",
      "[CV] .... kernel=rbf, gamma=scale, C=44.951515151515146, total=  15.2s\n",
      "[CV] kernel=rbf, gamma=scale, C=44.951515151515146 ...................\n",
      "[CV] .... kernel=rbf, gamma=scale, C=44.951515151515146, total=  15.1s\n",
      "[CV] kernel=sigmoid, gamma=scale, C=12.136363636363633 ...............\n",
      "[CV]  kernel=sigmoid, gamma=scale, C=12.136363636363633, total=  16.9s\n",
      "[CV] kernel=sigmoid, gamma=scale, C=12.136363636363633 ...............\n",
      "[CV]  kernel=sigmoid, gamma=scale, C=12.136363636363633, total=  16.8s\n",
      "[CV] kernel=sigmoid, gamma=scale, C=12.136363636363633 ...............\n",
      "[CV]  kernel=sigmoid, gamma=scale, C=12.136363636363633, total=  17.0s\n",
      "[CV] kernel=rbf, gamma=scale, C=4.563636363636363 ....................\n",
      "[CV] ..... kernel=rbf, gamma=scale, C=4.563636363636363, total=  14.4s\n",
      "[CV] kernel=rbf, gamma=scale, C=4.563636363636363 ....................\n",
      "[CV] ..... kernel=rbf, gamma=scale, C=4.563636363636363, total=  14.3s\n",
      "[CV] kernel=rbf, gamma=scale, C=4.563636363636363 ....................\n",
      "[CV] ..... kernel=rbf, gamma=scale, C=4.563636363636363, total=  14.3s\n",
      "[CV] kernel=sigmoid, gamma=auto, C=4.563636363636363 .................\n",
      "[CV] .. kernel=sigmoid, gamma=auto, C=4.563636363636363, total=  16.4s\n",
      "[CV] kernel=sigmoid, gamma=auto, C=4.563636363636363 .................\n",
      "[CV] .. kernel=sigmoid, gamma=auto, C=4.563636363636363, total=  16.5s\n",
      "[CV] kernel=sigmoid, gamma=auto, C=4.563636363636363 .................\n",
      "[CV] .. kernel=sigmoid, gamma=auto, C=4.563636363636363, total=  16.6s\n",
      "[CV] kernel=sigmoid, gamma=auto, C=7.087878787878786 .................\n",
      "[CV] .. kernel=sigmoid, gamma=auto, C=7.087878787878786, total=  16.5s\n",
      "[CV] kernel=sigmoid, gamma=auto, C=7.087878787878786 .................\n",
      "[CV] .. kernel=sigmoid, gamma=auto, C=7.087878787878786, total=  16.6s\n",
      "[CV] kernel=sigmoid, gamma=auto, C=7.087878787878786 .................\n",
      "[CV] .. kernel=sigmoid, gamma=auto, C=7.087878787878786, total=  16.6s\n",
      "[CV] kernel=sigmoid, gamma=auto, C=35.86424242424242 .................\n",
      "[CV] .. kernel=sigmoid, gamma=auto, C=35.86424242424242, total=  16.5s\n",
      "[CV] kernel=sigmoid, gamma=auto, C=35.86424242424242 .................\n",
      "[CV] .. kernel=sigmoid, gamma=auto, C=35.86424242424242, total=  16.7s\n",
      "[CV] kernel=sigmoid, gamma=auto, C=35.86424242424242 .................\n",
      "[CV] .. kernel=sigmoid, gamma=auto, C=35.86424242424242, total=  16.5s\n",
      "[CV] kernel=rbf, gamma=auto, C=14.660606060606058 ....................\n",
      "[CV] ..... kernel=rbf, gamma=auto, C=14.660606060606058, total=  14.6s\n",
      "[CV] kernel=rbf, gamma=auto, C=14.660606060606058 ....................\n",
      "[CV] ..... kernel=rbf, gamma=auto, C=14.660606060606058, total=  14.7s\n",
      "[CV] kernel=rbf, gamma=auto, C=14.660606060606058 ....................\n",
      "[CV] ..... kernel=rbf, gamma=auto, C=14.660606060606058, total=  14.5s\n",
      "[CV] kernel=sigmoid, gamma=auto, C=38.89333333333333 .................\n",
      "[CV] .. kernel=sigmoid, gamma=auto, C=38.89333333333333, total=  16.5s\n",
      "[CV] kernel=sigmoid, gamma=auto, C=38.89333333333333 .................\n",
      "[CV] .. kernel=sigmoid, gamma=auto, C=38.89333333333333, total=  16.4s\n",
      "[CV] kernel=sigmoid, gamma=auto, C=38.89333333333333 .................\n",
      "[CV] .. kernel=sigmoid, gamma=auto, C=38.89333333333333, total=  16.5s\n",
      "[CV] kernel=sigmoid, gamma=scale, C=48.48545454545454 ................\n",
      "[CV] . kernel=sigmoid, gamma=scale, C=48.48545454545454, total=  16.8s\n",
      "[CV] kernel=sigmoid, gamma=scale, C=48.48545454545454 ................\n",
      "[CV] . kernel=sigmoid, gamma=scale, C=48.48545454545454, total=  17.3s\n",
      "[CV] kernel=sigmoid, gamma=scale, C=48.48545454545454 ................\n",
      "[CV] . kernel=sigmoid, gamma=scale, C=48.48545454545454, total=  17.1s\n",
      "[CV] kernel=poly, gamma=auto, C=23.747878787878783 ...................\n",
      "[CV] .... kernel=poly, gamma=auto, C=23.747878787878783, total=  14.5s\n",
      "[CV] kernel=poly, gamma=auto, C=23.747878787878783 ...................\n",
      "[CV] .... kernel=poly, gamma=auto, C=23.747878787878783, total=  14.4s\n",
      "[CV] kernel=poly, gamma=auto, C=23.747878787878783 ...................\n"
     ]
    },
    {
     "name": "stdout",
     "output_type": "stream",
     "text": [
      "[CV] .... kernel=poly, gamma=auto, C=23.747878787878783, total=  14.4s\n",
      "[CV] kernel=sigmoid, gamma=auto, C=47.47575757575757 .................\n",
      "[CV] .. kernel=sigmoid, gamma=auto, C=47.47575757575757, total=  16.4s\n",
      "[CV] kernel=sigmoid, gamma=auto, C=47.47575757575757 .................\n",
      "[CV] .. kernel=sigmoid, gamma=auto, C=47.47575757575757, total=  16.4s\n",
      "[CV] kernel=sigmoid, gamma=auto, C=47.47575757575757 .................\n",
      "[CV] .. kernel=sigmoid, gamma=auto, C=47.47575757575757, total=  16.7s\n",
      "[CV] kernel=sigmoid, gamma=auto, C=32.835151515151516 ................\n",
      "[CV] . kernel=sigmoid, gamma=auto, C=32.835151515151516, total=  16.4s\n",
      "[CV] kernel=sigmoid, gamma=auto, C=32.835151515151516 ................\n",
      "[CV] . kernel=sigmoid, gamma=auto, C=32.835151515151516, total=  16.4s\n",
      "[CV] kernel=sigmoid, gamma=auto, C=32.835151515151516 ................\n",
      "[CV] . kernel=sigmoid, gamma=auto, C=32.835151515151516, total=  16.5s\n",
      "[CV] kernel=poly, gamma=auto, C=14.155757575757573 ...................\n",
      "[CV] .... kernel=poly, gamma=auto, C=14.155757575757573, total=  14.4s\n",
      "[CV] kernel=poly, gamma=auto, C=14.155757575757573 ...................\n",
      "[CV] .... kernel=poly, gamma=auto, C=14.155757575757573, total=  14.2s\n",
      "[CV] kernel=poly, gamma=auto, C=14.155757575757573 ...................\n",
      "[CV] .... kernel=poly, gamma=auto, C=14.155757575757573, total=  14.2s\n",
      "[CV] kernel=poly, gamma=scale, C=0.5248484848484848 ..................\n",
      "[CV] ... kernel=poly, gamma=scale, C=0.5248484848484848, total=  14.1s\n",
      "[CV] kernel=poly, gamma=scale, C=0.5248484848484848 ..................\n",
      "[CV] ... kernel=poly, gamma=scale, C=0.5248484848484848, total=  14.0s\n",
      "[CV] kernel=poly, gamma=scale, C=0.5248484848484848 ..................\n",
      "[CV] ... kernel=poly, gamma=scale, C=0.5248484848484848, total=  13.9s\n",
      "[CV] kernel=sigmoid, gamma=scale, C=40.407878787878786 ...............\n",
      "[CV]  kernel=sigmoid, gamma=scale, C=40.407878787878786, total=  17.2s\n",
      "[CV] kernel=sigmoid, gamma=scale, C=40.407878787878786 ...............\n",
      "[CV]  kernel=sigmoid, gamma=scale, C=40.407878787878786, total=  17.0s\n",
      "[CV] kernel=sigmoid, gamma=scale, C=40.407878787878786 ...............\n",
      "[CV]  kernel=sigmoid, gamma=scale, C=40.407878787878786, total=  17.2s\n",
      "[CV] kernel=sigmoid, gamma=auto, C=41.92242424242424 .................\n",
      "[CV] .. kernel=sigmoid, gamma=auto, C=41.92242424242424, total=  16.5s\n",
      "[CV] kernel=sigmoid, gamma=auto, C=41.92242424242424 .................\n",
      "[CV] .. kernel=sigmoid, gamma=auto, C=41.92242424242424, total=  16.6s\n",
      "[CV] kernel=sigmoid, gamma=auto, C=41.92242424242424 .................\n",
      "[CV] .. kernel=sigmoid, gamma=auto, C=41.92242424242424, total=  16.6s\n",
      "[CV] kernel=sigmoid, gamma=auto, C=33.339999999999996 ................\n",
      "[CV] . kernel=sigmoid, gamma=auto, C=33.339999999999996, total=  16.5s\n",
      "[CV] kernel=sigmoid, gamma=auto, C=33.339999999999996 ................\n",
      "[CV] . kernel=sigmoid, gamma=auto, C=33.339999999999996, total=  16.5s\n",
      "[CV] kernel=sigmoid, gamma=auto, C=33.339999999999996 ................\n",
      "[CV] . kernel=sigmoid, gamma=auto, C=33.339999999999996, total=  16.7s\n",
      "[CV] kernel=poly, gamma=auto, C=46.4660606060606 .....................\n",
      "[CV] ...... kernel=poly, gamma=auto, C=46.4660606060606, total=  14.9s\n",
      "[CV] kernel=poly, gamma=auto, C=46.4660606060606 .....................\n",
      "[CV] ...... kernel=poly, gamma=auto, C=46.4660606060606, total=  14.6s\n",
      "[CV] kernel=poly, gamma=auto, C=46.4660606060606 .....................\n",
      "[CV] ...... kernel=poly, gamma=auto, C=46.4660606060606, total=  14.7s\n",
      "[CV] kernel=sigmoid, gamma=scale, C=9.107272727272726 ................\n",
      "[CV] . kernel=sigmoid, gamma=scale, C=9.107272727272726, total=  17.3s\n",
      "[CV] kernel=sigmoid, gamma=scale, C=9.107272727272726 ................\n",
      "[CV] . kernel=sigmoid, gamma=scale, C=9.107272727272726, total=  16.5s\n",
      "[CV] kernel=sigmoid, gamma=scale, C=9.107272727272726 ................\n",
      "[CV] . kernel=sigmoid, gamma=scale, C=9.107272727272726, total=  16.8s\n",
      "[CV] kernel=rbf, gamma=auto, C=39.39818181818182 .....................\n",
      "[CV] ...... kernel=rbf, gamma=auto, C=39.39818181818182, total=  15.0s\n",
      "[CV] kernel=rbf, gamma=auto, C=39.39818181818182 .....................\n",
      "[CV] ...... kernel=rbf, gamma=auto, C=39.39818181818182, total=  14.8s\n",
      "[CV] kernel=rbf, gamma=auto, C=39.39818181818182 .....................\n",
      "[CV] ...... kernel=rbf, gamma=auto, C=39.39818181818182, total=  14.8s\n",
      "[CV] kernel=sigmoid, gamma=auto, C=38.38848484848484 .................\n",
      "[CV] .. kernel=sigmoid, gamma=auto, C=38.38848484848484, total=  16.5s\n",
      "[CV] kernel=sigmoid, gamma=auto, C=38.38848484848484 .................\n",
      "[CV] .. kernel=sigmoid, gamma=auto, C=38.38848484848484, total=  16.5s\n",
      "[CV] kernel=sigmoid, gamma=auto, C=38.38848484848484 .................\n",
      "[CV] .. kernel=sigmoid, gamma=auto, C=38.38848484848484, total=  16.5s\n",
      "[CV] kernel=rbf, gamma=scale, C=47.98060606060606 ....................\n",
      "[CV] ..... kernel=rbf, gamma=scale, C=47.98060606060606, total=  15.1s\n",
      "[CV] kernel=rbf, gamma=scale, C=47.98060606060606 ....................\n",
      "[CV] ..... kernel=rbf, gamma=scale, C=47.98060606060606, total=  15.2s\n",
      "[CV] kernel=rbf, gamma=scale, C=47.98060606060606 ....................\n",
      "[CV] ..... kernel=rbf, gamma=scale, C=47.98060606060606, total=  15.2s\n",
      "[CV] kernel=rbf, gamma=auto, C=26.272121212121206 ....................\n",
      "[CV] ..... kernel=rbf, gamma=auto, C=26.272121212121206, total=  14.9s\n",
      "[CV] kernel=rbf, gamma=auto, C=26.272121212121206 ....................\n",
      "[CV] ..... kernel=rbf, gamma=auto, C=26.272121212121206, total=  14.7s\n",
      "[CV] kernel=rbf, gamma=auto, C=26.272121212121206 ....................\n",
      "[CV] ..... kernel=rbf, gamma=auto, C=26.272121212121206, total=  14.7s\n",
      "[CV] kernel=rbf, gamma=scale, C=28.79636363636363 ....................\n",
      "[CV] ..... kernel=rbf, gamma=scale, C=28.79636363636363, total=  14.9s\n",
      "[CV] kernel=rbf, gamma=scale, C=28.79636363636363 ....................\n",
      "[CV] ..... kernel=rbf, gamma=scale, C=28.79636363636363, total=  14.9s\n",
      "[CV] kernel=rbf, gamma=scale, C=28.79636363636363 ....................\n",
      "[CV] ..... kernel=rbf, gamma=scale, C=28.79636363636363, total=  14.8s\n",
      "[CV] kernel=rbf, gamma=scale, C=47.47575757575757 ....................\n",
      "[CV] ..... kernel=rbf, gamma=scale, C=47.47575757575757, total=  15.1s\n",
      "[CV] kernel=rbf, gamma=scale, C=47.47575757575757 ....................\n",
      "[CV] ..... kernel=rbf, gamma=scale, C=47.47575757575757, total=  15.2s\n",
      "[CV] kernel=rbf, gamma=scale, C=47.47575757575757 ....................\n",
      "[CV] ..... kernel=rbf, gamma=scale, C=47.47575757575757, total=  15.1s\n",
      "[CV] kernel=sigmoid, gamma=scale, C=33.339999999999996 ...............\n",
      "[CV]  kernel=sigmoid, gamma=scale, C=33.339999999999996, total=  16.8s\n",
      "[CV] kernel=sigmoid, gamma=scale, C=33.339999999999996 ...............\n",
      "[CV]  kernel=sigmoid, gamma=scale, C=33.339999999999996, total=  17.4s\n",
      "[CV] kernel=sigmoid, gamma=scale, C=33.339999999999996 ...............\n",
      "[CV]  kernel=sigmoid, gamma=scale, C=33.339999999999996, total=  16.7s\n",
      "[CV] kernel=sigmoid, gamma=scale, C=40.91272727272727 ................\n",
      "[CV] . kernel=sigmoid, gamma=scale, C=40.91272727272727, total=  17.2s\n",
      "[CV] kernel=sigmoid, gamma=scale, C=40.91272727272727 ................\n",
      "[CV] . kernel=sigmoid, gamma=scale, C=40.91272727272727, total=  17.0s\n",
      "[CV] kernel=sigmoid, gamma=scale, C=40.91272727272727 ................\n",
      "[CV] . kernel=sigmoid, gamma=scale, C=40.91272727272727, total=  17.2s\n",
      "[CV] kernel=poly, gamma=auto, C=28.79636363636363 ....................\n",
      "[CV] ..... kernel=poly, gamma=auto, C=28.79636363636363, total=  14.7s\n",
      "[CV] kernel=poly, gamma=auto, C=28.79636363636363 ....................\n",
      "[CV] ..... kernel=poly, gamma=auto, C=28.79636363636363, total=  14.6s\n",
      "[CV] kernel=poly, gamma=auto, C=28.79636363636363 ....................\n",
      "[CV] ..... kernel=poly, gamma=auto, C=28.79636363636363, total=  14.4s\n",
      "[CV] kernel=poly, gamma=scale, C=47.98060606060606 ...................\n",
      "[CV] .... kernel=poly, gamma=scale, C=47.98060606060606, total=  14.2s\n",
      "[CV] kernel=poly, gamma=scale, C=47.98060606060606 ...................\n",
      "[CV] .... kernel=poly, gamma=scale, C=47.98060606060606, total=  14.0s\n",
      "[CV] kernel=poly, gamma=scale, C=47.98060606060606 ...................\n",
      "[CV] .... kernel=poly, gamma=scale, C=47.98060606060606, total=  14.1s\n",
      "[CV] kernel=sigmoid, gamma=scale, C=26.776969696969694 ...............\n"
     ]
    },
    {
     "name": "stdout",
     "output_type": "stream",
     "text": [
      "[CV]  kernel=sigmoid, gamma=scale, C=26.776969696969694, total=  17.0s\n",
      "[CV] kernel=sigmoid, gamma=scale, C=26.776969696969694 ...............\n",
      "[CV]  kernel=sigmoid, gamma=scale, C=26.776969696969694, total=  16.8s\n",
      "[CV] kernel=sigmoid, gamma=scale, C=26.776969696969694 ...............\n",
      "[CV]  kernel=sigmoid, gamma=scale, C=26.776969696969694, total=  17.3s\n"
     ]
    },
    {
     "name": "stderr",
     "output_type": "stream",
     "text": [
      "[Parallel(n_jobs=1)]: Done 120 out of 120 | elapsed: 31.0min finished\n"
     ]
    },
    {
     "data": {
      "text/plain": [
       "RandomizedSearchCV(cv=3, error_score='raise-deprecating',\n",
       "                   estimator=SVR(C=1.0, cache_size=200, coef0=0.0, degree=3,\n",
       "                                 epsilon=0.1, gamma='auto_deprecated',\n",
       "                                 kernel='rbf', max_iter=-1, shrinking=True,\n",
       "                                 tol=0.001, verbose=False),\n",
       "                   iid='warn', n_iter=40, n_jobs=None,\n",
       "                   param_distributions={'C': [0.02, 0.5248484848484848,\n",
       "                                              1.0296969696969696,\n",
       "                                              1.5345454545454542,\n",
       "                                              2.039393939393939,...\n",
       "                                              10.116969696969695,\n",
       "                                              10.62181818181818,\n",
       "                                              11.126666666666665,\n",
       "                                              11.63151515151515,\n",
       "                                              12.136363636363633,\n",
       "                                              12.641212121212119,\n",
       "                                              13.146060606060603,\n",
       "                                              13.650909090909089,\n",
       "                                              14.155757575757573,\n",
       "                                              14.660606060606058, ...],\n",
       "                                        'gamma': ['scale', 'auto'],\n",
       "                                        'kernel': ['poly', 'rbf', 'sigmoid']},\n",
       "                   pre_dispatch='2*n_jobs', random_state=None, refit=True,\n",
       "                   return_train_score=False, scoring=None, verbose=2)"
      ]
     },
     "execution_count": 57,
     "metadata": {},
     "output_type": "execute_result"
    }
   ],
   "source": [
    "# begin the cross validation process\n",
    "from sklearn.model_selection import RandomizedSearchCV\n",
    "\n",
    "sv_random = RandomizedSearchCV(estimator = sv, param_distributions = sv_grid, n_iter = 40,\n",
    "                               cv = 3, verbose = 2)\n",
    "\n",
    "sv_random.fit(train_cmpts, y_train)"
   ]
  },
  {
   "cell_type": "code",
   "execution_count": 58,
   "metadata": {},
   "outputs": [
    {
     "data": {
      "text/plain": [
       "{'kernel': 'rbf', 'gamma': 'scale', 'C': 4.563636363636363}"
      ]
     },
     "execution_count": 58,
     "metadata": {},
     "output_type": "execute_result"
    }
   ],
   "source": [
    "sv_random.best_params_"
   ]
  },
  {
   "cell_type": "code",
   "execution_count": 59,
   "metadata": {},
   "outputs": [],
   "source": [
    "params = sv_random.best_params_"
   ]
  },
  {
   "cell_type": "code",
   "execution_count": 60,
   "metadata": {},
   "outputs": [
    {
     "data": {
      "text/plain": [
       "SVR(C=4.563636363636363, cache_size=200, coef0=0.0, degree=3, epsilon=0.1,\n",
       "    gamma='scale', kernel='rbf', max_iter=-1, shrinking=True, tol=0.001,\n",
       "    verbose=False)"
      ]
     },
     "execution_count": 60,
     "metadata": {},
     "output_type": "execute_result"
    }
   ],
   "source": [
    "# create a final model with the best parameters\n",
    "sv_final = sklearn.svm.SVR(**params)\n",
    "\n",
    "sv_final.fit(train_cmpts, y_train)"
   ]
  },
  {
   "cell_type": "code",
   "execution_count": 61,
   "metadata": {},
   "outputs": [
    {
     "name": "stdout",
     "output_type": "stream",
     "text": [
      "Mean Squared Error: 0.43977139283269806\n",
      "Mean Absolute Error: 0.49821097385527224\n"
     ]
    }
   ],
   "source": [
    "# check results with the test data\n",
    "\n",
    "y_pred_test = sv_final.predict(X= test_cmpts)\n",
    "MSE = mean_squared_error(y_test, y_pred_test)\n",
    "MAE = mean_absolute_error(y_test, y_pred_test)\n",
    "print(\"Mean Squared Error: \" + str(MSE))\n",
    "print(\"Mean Absolute Error: \" + str(MAE))"
   ]
  },
  {
   "cell_type": "markdown",
   "metadata": {},
   "source": [
    "## Save final models"
   ]
  },
  {
   "cell_type": "code",
   "execution_count": null,
   "metadata": {},
   "outputs": [],
   "source": [
    "with open(\"models/DRD2_pChEMBL_pca.pkl\", \"wb\") as f:\n",
    "    pickle.dump(pca, f)\n",
    "    \n",
    "with open(\"models/DRD2_pChEMBL_sv_w_pca.pkl\", \"wb\") as f:\n",
    "    pickle.dump(sv_final, f)"
   ]
  }
 ],
 "metadata": {
  "kernelspec": {
   "display_name": "RC_v3",
   "language": "python",
   "name": "reinventcommunity"
  },
  "language_info": {
   "codemirror_mode": {
    "name": "ipython",
    "version": 3
   },
   "file_extension": ".py",
   "mimetype": "text/x-python",
   "name": "python",
   "nbconvert_exporter": "python",
   "pygments_lexer": "ipython3",
   "version": "3.7.6"
  }
 },
 "nbformat": 4,
 "nbformat_minor": 2
}
