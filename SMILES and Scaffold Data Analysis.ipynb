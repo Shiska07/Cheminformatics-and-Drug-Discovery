{
 "cells": [
  {
   "cell_type": "code",
   "execution_count": 1,
   "metadata": {},
   "outputs": [],
   "source": [
    "# import packages\n",
    "\n",
    "import os\n",
    "import pandas as pd\n",
    "import numpy as np\n",
    "import random\n",
    "\n",
    "from rdkit import Chem\n",
    "import rdkit.Chem as rkc\n",
    "import rdkit.Chem.AllChem as rkac\n",
    "import rdkit.Chem.Scaffolds.MurckoScaffold as mrks\n",
    "\n",
    "import matplotlib.pyplot as plt\n",
    "import seaborn as sns"
   ]
  },
  {
   "cell_type": "code",
   "execution_count": 2,
   "metadata": {},
   "outputs": [
    {
     "name": "stdout",
     "output_type": "stream",
     "text": [
      "<class 'pandas.core.frame.DataFrame'>\n",
      "RangeIndex: 10983 entries, 0 to 10982\n",
      "Data columns (total 2 columns):\n",
      " #   Column         Non-Null Count  Dtype  \n",
      "---  ------         --------------  -----  \n",
      " 0   Smiles         10968 non-null  object \n",
      " 1   pChEMBL Value  10983 non-null  float64\n",
      "dtypes: float64(1), object(1)\n",
      "memory usage: 171.7+ KB\n"
     ]
    }
   ],
   "source": [
    "# provide path to data\n",
    "\n",
    "data_path = \"Data/DRD2_RAW_SMILES.csv\"\n",
    "\n",
    "df = pd.read_csv(data_path)\n",
    "df.info()"
   ]
  },
  {
   "cell_type": "code",
   "execution_count": 3,
   "metadata": {},
   "outputs": [
    {
     "data": {
      "text/html": [
       "<div>\n",
       "<style scoped>\n",
       "    .dataframe tbody tr th:only-of-type {\n",
       "        vertical-align: middle;\n",
       "    }\n",
       "\n",
       "    .dataframe tbody tr th {\n",
       "        vertical-align: top;\n",
       "    }\n",
       "\n",
       "    .dataframe thead th {\n",
       "        text-align: right;\n",
       "    }\n",
       "</style>\n",
       "<table border=\"1\" class=\"dataframe\">\n",
       "  <thead>\n",
       "    <tr style=\"text-align: right;\">\n",
       "      <th></th>\n",
       "      <th>Smiles</th>\n",
       "      <th>pChEMBL Value</th>\n",
       "    </tr>\n",
       "  </thead>\n",
       "  <tbody>\n",
       "    <tr>\n",
       "      <th>0</th>\n",
       "      <td>CCCSc1nnc(-c2ccccc2)n1C</td>\n",
       "      <td>3.74</td>\n",
       "    </tr>\n",
       "    <tr>\n",
       "      <th>1</th>\n",
       "      <td>Cc1ccc(CNCC2(F)CCN(C(=O)c3cc(Br)cs3)CC2)nc1</td>\n",
       "      <td>4.00</td>\n",
       "    </tr>\n",
       "    <tr>\n",
       "      <th>2</th>\n",
       "      <td>COc1ccccc1N1CCC2(CCNCC2)CC1</td>\n",
       "      <td>4.00</td>\n",
       "    </tr>\n",
       "    <tr>\n",
       "      <th>3</th>\n",
       "      <td>Cl.NCCc1ccc(O)c(O)c1</td>\n",
       "      <td>4.00</td>\n",
       "    </tr>\n",
       "    <tr>\n",
       "      <th>4</th>\n",
       "      <td>Cn1c(SCCCN2CCCCC2)nnc1-c1ccccc1</td>\n",
       "      <td>4.01</td>\n",
       "    </tr>\n",
       "    <tr>\n",
       "      <th>5</th>\n",
       "      <td>O=C(CN1CCN(c2ccccn2)CC1)Nc1cncnc1</td>\n",
       "      <td>4.03</td>\n",
       "    </tr>\n",
       "    <tr>\n",
       "      <th>6</th>\n",
       "      <td>Cc1ccc(C2CCN(CC(=O)Nc3cccc(C)c3)CC2)cc1</td>\n",
       "      <td>4.05</td>\n",
       "    </tr>\n",
       "    <tr>\n",
       "      <th>7</th>\n",
       "      <td>CCc1cccc(NC(=O)CN2CCN(c3ccccn3)CC2)c1</td>\n",
       "      <td>4.05</td>\n",
       "    </tr>\n",
       "    <tr>\n",
       "      <th>8</th>\n",
       "      <td>O=C(CN1CCN(c2ccc(Cl)cn2)CC1)Nc1cccnc1</td>\n",
       "      <td>4.06</td>\n",
       "    </tr>\n",
       "    <tr>\n",
       "      <th>9</th>\n",
       "      <td>Oc1ccc(N2CCN(Cc3cnn4ccccc34)CC2)cc1</td>\n",
       "      <td>4.06</td>\n",
       "    </tr>\n",
       "    <tr>\n",
       "      <th>10</th>\n",
       "      <td>Oc1cccc(C2NCCc3c2[nH]c2ccccc32)c1</td>\n",
       "      <td>4.06</td>\n",
       "    </tr>\n",
       "    <tr>\n",
       "      <th>11</th>\n",
       "      <td>CCC(NC(C)C)C(O)c1ccc(O)c2[nH]c(=O)ccc12</td>\n",
       "      <td>4.07</td>\n",
       "    </tr>\n",
       "    <tr>\n",
       "      <th>12</th>\n",
       "      <td>Cn1c(SCCCN2CCC3(CC2)CCN(c2ccccn2)CC3)nnc1-c1cc...</td>\n",
       "      <td>4.08</td>\n",
       "    </tr>\n",
       "    <tr>\n",
       "      <th>13</th>\n",
       "      <td>Cl.Clc1ccc(N2CCN(CCCCNc3noc(-c4ccccc4)n3)CC2)cc1</td>\n",
       "      <td>4.10</td>\n",
       "    </tr>\n",
       "    <tr>\n",
       "      <th>14</th>\n",
       "      <td>FCCOc1ccc(N2CCN(Cc3cnn4ccccc34)CC2)cc1</td>\n",
       "      <td>4.10</td>\n",
       "    </tr>\n",
       "    <tr>\n",
       "      <th>15</th>\n",
       "      <td>OCc1cccn2ncc(CN3CCN(c4ccc(Cl)cc4)CC3)c12</td>\n",
       "      <td>4.10</td>\n",
       "    </tr>\n",
       "    <tr>\n",
       "      <th>16</th>\n",
       "      <td>Cn1c(SCCCN2CCNCC2)nnc1-c1ccccc1</td>\n",
       "      <td>4.13</td>\n",
       "    </tr>\n",
       "    <tr>\n",
       "      <th>17</th>\n",
       "      <td>Cc1ccc(CNCC2(F)CCN(C(=O)c3cc(Br)cs3)CC2)nc1</td>\n",
       "      <td>4.14</td>\n",
       "    </tr>\n",
       "    <tr>\n",
       "      <th>18</th>\n",
       "      <td>O=C(CN1CCN(c2ccc(Cl)cn2)CC1)Nc1cncnc1</td>\n",
       "      <td>4.14</td>\n",
       "    </tr>\n",
       "    <tr>\n",
       "      <th>19</th>\n",
       "      <td>C[C@H]1CO[C@@H](c2ccc(N)nc2)CN1C[C@@H]1C[C@H]1...</td>\n",
       "      <td>4.15</td>\n",
       "    </tr>\n",
       "  </tbody>\n",
       "</table>\n",
       "</div>"
      ],
      "text/plain": [
       "                                               Smiles  pChEMBL Value\n",
       "0                             CCCSc1nnc(-c2ccccc2)n1C           3.74\n",
       "1         Cc1ccc(CNCC2(F)CCN(C(=O)c3cc(Br)cs3)CC2)nc1           4.00\n",
       "2                         COc1ccccc1N1CCC2(CCNCC2)CC1           4.00\n",
       "3                                Cl.NCCc1ccc(O)c(O)c1           4.00\n",
       "4                     Cn1c(SCCCN2CCCCC2)nnc1-c1ccccc1           4.01\n",
       "5                   O=C(CN1CCN(c2ccccn2)CC1)Nc1cncnc1           4.03\n",
       "6             Cc1ccc(C2CCN(CC(=O)Nc3cccc(C)c3)CC2)cc1           4.05\n",
       "7               CCc1cccc(NC(=O)CN2CCN(c3ccccn3)CC2)c1           4.05\n",
       "8               O=C(CN1CCN(c2ccc(Cl)cn2)CC1)Nc1cccnc1           4.06\n",
       "9                 Oc1ccc(N2CCN(Cc3cnn4ccccc34)CC2)cc1           4.06\n",
       "10                  Oc1cccc(C2NCCc3c2[nH]c2ccccc32)c1           4.06\n",
       "11            CCC(NC(C)C)C(O)c1ccc(O)c2[nH]c(=O)ccc12           4.07\n",
       "12  Cn1c(SCCCN2CCC3(CC2)CCN(c2ccccn2)CC3)nnc1-c1cc...           4.08\n",
       "13   Cl.Clc1ccc(N2CCN(CCCCNc3noc(-c4ccccc4)n3)CC2)cc1           4.10\n",
       "14             FCCOc1ccc(N2CCN(Cc3cnn4ccccc34)CC2)cc1           4.10\n",
       "15           OCc1cccn2ncc(CN3CCN(c4ccc(Cl)cc4)CC3)c12           4.10\n",
       "16                    Cn1c(SCCCN2CCNCC2)nnc1-c1ccccc1           4.13\n",
       "17        Cc1ccc(CNCC2(F)CCN(C(=O)c3cc(Br)cs3)CC2)nc1           4.14\n",
       "18              O=C(CN1CCN(c2ccc(Cl)cn2)CC1)Nc1cncnc1           4.14\n",
       "19  C[C@H]1CO[C@@H](c2ccc(N)nc2)CN1C[C@@H]1C[C@H]1...           4.15"
      ]
     },
     "execution_count": 3,
     "metadata": {},
     "output_type": "execute_result"
    }
   ],
   "source": [
    "df.head(20)"
   ]
  },
  {
   "cell_type": "code",
   "execution_count": 4,
   "metadata": {},
   "outputs": [],
   "source": [
    "# provide column name containing the SMILES\n",
    "smi_column = \"Smiles\"\n",
    "\n",
    "# provide max SMILE length in characters\n",
    "max_len = 130"
   ]
  },
  {
   "cell_type": "code",
   "execution_count": 5,
   "metadata": {},
   "outputs": [
    {
     "data": {
      "text/plain": [
       "Smiles           15\n",
       "pChEMBL Value     0\n",
       "dtype: int64"
      ]
     },
     "execution_count": 5,
     "metadata": {},
     "output_type": "execute_result"
    }
   ],
   "source": [
    "# check for numm values and drop any of present\n",
    "df.isnull().sum()"
   ]
  },
  {
   "cell_type": "code",
   "execution_count": 6,
   "metadata": {},
   "outputs": [
    {
     "data": {
      "text/plain": [
       "Smiles           0\n",
       "pChEMBL Value    0\n",
       "dtype: int64"
      ]
     },
     "execution_count": 6,
     "metadata": {},
     "output_type": "execute_result"
    }
   ],
   "source": [
    "df.dropna(inplace = True)\n",
    "\n",
    "# reset index after performing drop\n",
    "df.reset_index(drop = True, inplace = True)\n",
    "\n",
    "# check again for null values\n",
    "df.isnull().sum()"
   ]
  },
  {
   "cell_type": "code",
   "execution_count": 7,
   "metadata": {},
   "outputs": [
    {
     "name": "stdout",
     "output_type": "stream",
     "text": [
      "<class 'pandas.core.frame.DataFrame'>\n",
      "RangeIndex: 10968 entries, 0 to 10967\n",
      "Data columns (total 2 columns):\n",
      " #   Column         Non-Null Count  Dtype  \n",
      "---  ------         --------------  -----  \n",
      " 0   Smiles         10968 non-null  object \n",
      " 1   pChEMBL Value  10968 non-null  float64\n",
      "dtypes: float64(1), object(1)\n",
      "memory usage: 171.5+ KB\n"
     ]
    }
   ],
   "source": [
    "# check the total number of smiles again\n",
    "df.info()"
   ]
  },
  {
   "cell_type": "code",
   "execution_count": 8,
   "metadata": {},
   "outputs": [],
   "source": [
    "# this function removes stereochemistry from SMILES in the dataframe\n",
    "\n",
    "def remove_stereochemistry():\n",
    "    \n",
    "    curated_smiles = []\n",
    "    \n",
    "    global df, smi_column\n",
    "    smiles_ser = df[smi_column]\n",
    "    smiles_list = smiles_ser.tolist()\n",
    "    \n",
    "    for smiles in smiles_list:\n",
    "        smi_curated = smiles.replace('@','')\n",
    "        curated_smiles.append(smi_curated)\n",
    "    \n",
    "    # drop column with old SMILES\n",
    "    df.drop([smi_column], inplace = True, axis = 1)\n",
    "    \n",
    "    #convert list to new series\n",
    "    curated_smiles_ser = pd.DataFrame(curated_smiles, columns = ['Smiles'])\n",
    "    df = curated_smiles_ser.join(df, how = 'right')\n",
    "    return None"
   ]
  },
  {
   "cell_type": "markdown",
   "metadata": {},
   "source": [
    "### Run the cell below to remove stereochemistry"
   ]
  },
  {
   "cell_type": "code",
   "execution_count": 9,
   "metadata": {},
   "outputs": [
    {
     "data": {
      "text/html": [
       "<div>\n",
       "<style scoped>\n",
       "    .dataframe tbody tr th:only-of-type {\n",
       "        vertical-align: middle;\n",
       "    }\n",
       "\n",
       "    .dataframe tbody tr th {\n",
       "        vertical-align: top;\n",
       "    }\n",
       "\n",
       "    .dataframe thead th {\n",
       "        text-align: right;\n",
       "    }\n",
       "</style>\n",
       "<table border=\"1\" class=\"dataframe\">\n",
       "  <thead>\n",
       "    <tr style=\"text-align: right;\">\n",
       "      <th></th>\n",
       "      <th>Smiles</th>\n",
       "      <th>pChEMBL Value</th>\n",
       "    </tr>\n",
       "  </thead>\n",
       "  <tbody>\n",
       "    <tr>\n",
       "      <th>10948</th>\n",
       "      <td>CCCN(CCc1cccs1)[CH]1CCc2c(O)cccc2C1</td>\n",
       "      <td>10.22</td>\n",
       "    </tr>\n",
       "    <tr>\n",
       "      <th>10949</th>\n",
       "      <td>CC(C)C[CH](NC(=O)[CH]1CCCN1)C(=O)NCC(N)=O</td>\n",
       "      <td>10.22</td>\n",
       "    </tr>\n",
       "    <tr>\n",
       "      <th>10950</th>\n",
       "      <td>O=C1NCc2ccc(OCCCCN3CCN(c4cccc5c4CCC5)CC3)cc21</td>\n",
       "      <td>10.24</td>\n",
       "    </tr>\n",
       "    <tr>\n",
       "      <th>10951</th>\n",
       "      <td>O=C1NCc2ccc(OCCCCN3CCN(c4cccc5c4CCC5)CC3)cc21</td>\n",
       "      <td>10.24</td>\n",
       "    </tr>\n",
       "    <tr>\n",
       "      <th>10952</th>\n",
       "      <td>O=C(CCCN1[CH]2CC[CH]1CC(O)(c1ccc(Cl)cc1)C2)c1c...</td>\n",
       "      <td>10.26</td>\n",
       "    </tr>\n",
       "    <tr>\n",
       "      <th>10953</th>\n",
       "      <td>O=C(CCCN1[CH]2CC[CH]1CC(O)(c1ccc(Cl)cc1)C2)c1c...</td>\n",
       "      <td>10.28</td>\n",
       "    </tr>\n",
       "    <tr>\n",
       "      <th>10954</th>\n",
       "      <td>CCCCCCNC[CH]1CCc2ccc(O)cc2O1.O=C(O)C(=O)O</td>\n",
       "      <td>10.30</td>\n",
       "    </tr>\n",
       "    <tr>\n",
       "      <th>10955</th>\n",
       "      <td>NC(=O)[CH]1CS[CH]2CC[C]3(CCCN3C(=O)[CH]3CCCN3)...</td>\n",
       "      <td>10.30</td>\n",
       "    </tr>\n",
       "    <tr>\n",
       "      <th>10956</th>\n",
       "      <td>O=c1[nH]c2cccc(N3CCN(Cc4cccc(-c5ccccc5)c4)CC3)...</td>\n",
       "      <td>10.40</td>\n",
       "    </tr>\n",
       "    <tr>\n",
       "      <th>10957</th>\n",
       "      <td>CC(C)(C)[C]1(O)CCN2C[CH]3c4ccccc4CCc4cccc(c43)...</td>\n",
       "      <td>10.40</td>\n",
       "    </tr>\n",
       "    <tr>\n",
       "      <th>10958</th>\n",
       "      <td>CC(C)(C)[C]1(O)CCN2C[CH]3c4ccccc4CCc4cccc(c43)...</td>\n",
       "      <td>10.40</td>\n",
       "    </tr>\n",
       "    <tr>\n",
       "      <th>10959</th>\n",
       "      <td>CCCN1CCc2cccc3c2[CH]1Cc1ccc(O)c(O)c1-3</td>\n",
       "      <td>10.40</td>\n",
       "    </tr>\n",
       "    <tr>\n",
       "      <th>10960</th>\n",
       "      <td>CCCN1CCc2cccc3c2[CH]1Cc1ccc(O)c(O)c1-3</td>\n",
       "      <td>10.40</td>\n",
       "    </tr>\n",
       "    <tr>\n",
       "      <th>10961</th>\n",
       "      <td>CC(C)C[CH](NC(=O)[CH]1CCCN1)C(=O)NCC(N)=O</td>\n",
       "      <td>10.40</td>\n",
       "    </tr>\n",
       "    <tr>\n",
       "      <th>10962</th>\n",
       "      <td>O=C(O)C(=O)O.Oc1ccc2c(c1)O[CH](CNCc1cccc(I)c1)CC2</td>\n",
       "      <td>10.50</td>\n",
       "    </tr>\n",
       "    <tr>\n",
       "      <th>10963</th>\n",
       "      <td>NC(=O)C1CCS[CH]2C[C]3(CCCN3C(=O)[CH]3CCCN3)C(=...</td>\n",
       "      <td>10.51</td>\n",
       "    </tr>\n",
       "    <tr>\n",
       "      <th>10964</th>\n",
       "      <td>O=C(NCCC(F)CN1CCN(c2cccc(Cl)c2Cl)CC1)c1cc2cccc...</td>\n",
       "      <td>10.52</td>\n",
       "    </tr>\n",
       "    <tr>\n",
       "      <th>10965</th>\n",
       "      <td>O=C(CCCN1CCC(n2c(O)nc3ccccc32)CC1)c1ccc(F)cc1</td>\n",
       "      <td>10.57</td>\n",
       "    </tr>\n",
       "    <tr>\n",
       "      <th>10966</th>\n",
       "      <td>O=C(O)C(=O)O.Oc1ccc2c(c1)O[CH](CNCc1ccccc1)CC2</td>\n",
       "      <td>10.70</td>\n",
       "    </tr>\n",
       "    <tr>\n",
       "      <th>10967</th>\n",
       "      <td>CCN(CC)C(=O)N[CH]1C=C2C3C=CC=C4NC=C(C[CH]2N(C)...</td>\n",
       "      <td>11.00</td>\n",
       "    </tr>\n",
       "  </tbody>\n",
       "</table>\n",
       "</div>"
      ],
      "text/plain": [
       "                                                  Smiles  pChEMBL Value\n",
       "10948                CCCN(CCc1cccs1)[CH]1CCc2c(O)cccc2C1          10.22\n",
       "10949          CC(C)C[CH](NC(=O)[CH]1CCCN1)C(=O)NCC(N)=O          10.22\n",
       "10950      O=C1NCc2ccc(OCCCCN3CCN(c4cccc5c4CCC5)CC3)cc21          10.24\n",
       "10951      O=C1NCc2ccc(OCCCCN3CCN(c4cccc5c4CCC5)CC3)cc21          10.24\n",
       "10952  O=C(CCCN1[CH]2CC[CH]1CC(O)(c1ccc(Cl)cc1)C2)c1c...          10.26\n",
       "10953  O=C(CCCN1[CH]2CC[CH]1CC(O)(c1ccc(Cl)cc1)C2)c1c...          10.28\n",
       "10954          CCCCCCNC[CH]1CCc2ccc(O)cc2O1.O=C(O)C(=O)O          10.30\n",
       "10955  NC(=O)[CH]1CS[CH]2CC[C]3(CCCN3C(=O)[CH]3CCCN3)...          10.30\n",
       "10956  O=c1[nH]c2cccc(N3CCN(Cc4cccc(-c5ccccc5)c4)CC3)...          10.40\n",
       "10957  CC(C)(C)[C]1(O)CCN2C[CH]3c4ccccc4CCc4cccc(c43)...          10.40\n",
       "10958  CC(C)(C)[C]1(O)CCN2C[CH]3c4ccccc4CCc4cccc(c43)...          10.40\n",
       "10959             CCCN1CCc2cccc3c2[CH]1Cc1ccc(O)c(O)c1-3          10.40\n",
       "10960             CCCN1CCc2cccc3c2[CH]1Cc1ccc(O)c(O)c1-3          10.40\n",
       "10961          CC(C)C[CH](NC(=O)[CH]1CCCN1)C(=O)NCC(N)=O          10.40\n",
       "10962  O=C(O)C(=O)O.Oc1ccc2c(c1)O[CH](CNCc1cccc(I)c1)CC2          10.50\n",
       "10963  NC(=O)C1CCS[CH]2C[C]3(CCCN3C(=O)[CH]3CCCN3)C(=...          10.51\n",
       "10964  O=C(NCCC(F)CN1CCN(c2cccc(Cl)c2Cl)CC1)c1cc2cccc...          10.52\n",
       "10965      O=C(CCCN1CCC(n2c(O)nc3ccccc32)CC1)c1ccc(F)cc1          10.57\n",
       "10966     O=C(O)C(=O)O.Oc1ccc2c(c1)O[CH](CNCc1ccccc1)CC2          10.70\n",
       "10967  CCN(CC)C(=O)N[CH]1C=C2C3C=CC=C4NC=C(C[CH]2N(C)...          11.00"
      ]
     },
     "execution_count": 9,
     "metadata": {},
     "output_type": "execute_result"
    }
   ],
   "source": [
    "remove_stereochemistry()\n",
    "df.tail(20)"
   ]
  },
  {
   "cell_type": "code",
   "execution_count": 10,
   "metadata": {},
   "outputs": [],
   "source": [
    "# this function removes invalid SMILES from the dataframe and returns the total number of invalid SMILES\n",
    "# SMILES will also be marked as invalid of they are too large or repeated\n",
    "\n",
    "def get_invalid_count():\n",
    "    \n",
    "    global df, smi_column\n",
    "    \n",
    "    invalid_count = 0\n",
    "    invalid_list = []\n",
    "    \n",
    "    smiles_ser = df[smi_column]\n",
    "    smiles_list = smiles_ser.tolist()\n",
    "    \n",
    "    \n",
    "    for smiles in smiles_list:\n",
    "        if len(str(smiles)) > max_len:\n",
    "            invalid_list.append(int(1))\n",
    "            invalid_count += 1\n",
    "        elif smiles in invalid_list:\n",
    "            invalid_list.append(int(1))\n",
    "            invalid_count += 1\n",
    "        else:\n",
    "            # setting sanitize to false avoids explicit valence error\n",
    "            # setting it to true gives the error and can be used to count invalid mols\n",
    "            mol = rkc.MolFromSmiles(smiles, sanitize = True)\n",
    "            if mol is None:\n",
    "                invalid_list.append(int(1))\n",
    "                invalid_count += 1\n",
    "            else:\n",
    "                invalid_list.append(int(0))\n",
    "    \n",
    "    # convert invalid_list to series\n",
    "    invalid_ser = pd.Series(invalid_list, name ='Invalid')\n",
    "    df = df.join(invalid_ser)\n",
    "    \n",
    "    # create a new instance with only valid entries\n",
    "    df = df[df['Invalid'] == 0]\n",
    "    \n",
    "    # drop 'Invalid' column\n",
    "    df.drop(['Invalid'], axis = 1, inplace = True)\n",
    "    df.reset_index(drop = True, inplace = True)\n",
    "    \n",
    "    return invalid_count"
   ]
  },
  {
   "cell_type": "markdown",
   "metadata": {},
   "source": [
    "### Run the cell below to remove invalid entries and get the invalid count"
   ]
  },
  {
   "cell_type": "code",
   "execution_count": 11,
   "metadata": {
    "scrolled": true
   },
   "outputs": [
    {
     "name": "stderr",
     "output_type": "stream",
     "text": [
      "RDKit ERROR: [23:46:13] Explicit valence for atom # 21 N, 4, is greater than permitted\n",
      "RDKit ERROR: [23:46:13] Explicit valence for atom # 17 N, 4, is greater than permitted\n",
      "RDKit ERROR: [23:46:13] Explicit valence for atom # 14 N, 4, is greater than permitted\n",
      "RDKit ERROR: [23:46:13] Explicit valence for atom # 21 N, 4, is greater than permitted\n",
      "RDKit ERROR: [23:46:13] Explicit valence for atom # 12 N, 4, is greater than permitted\n",
      "RDKit ERROR: [23:46:13] Can't kekulize mol.  Unkekulized atoms: 9 11 12 13 14 15 17\n",
      "RDKit ERROR: \n",
      "RDKit ERROR: [23:46:13] Explicit valence for atom # 14 N, 4, is greater than permitted\n",
      "RDKit ERROR: [23:46:13] Explicit valence for atom # 15 N, 4, is greater than permitted\n",
      "RDKit ERROR: [23:46:13] Explicit valence for atom # 13 N, 4, is greater than permitted\n",
      "RDKit ERROR: [23:46:13] Explicit valence for atom # 5 N, 4, is greater than permitted\n",
      "RDKit ERROR: [23:46:13] Explicit valence for atom # 20 N, 4, is greater than permitted\n",
      "RDKit ERROR: [23:46:13] Explicit valence for atom # 2 N, 4, is greater than permitted\n",
      "RDKit ERROR: [23:46:13] Explicit valence for atom # 2 N, 4, is greater than permitted\n",
      "RDKit ERROR: [23:46:13] Explicit valence for atom # 1 N, 4, is greater than permitted\n",
      "RDKit ERROR: [23:46:13] Explicit valence for atom # 1 N, 4, is greater than permitted\n",
      "RDKit ERROR: [23:46:13] Explicit valence for atom # 18 N, 4, is greater than permitted\n",
      "RDKit ERROR: [23:46:13] Explicit valence for atom # 7 N, 4, is greater than permitted\n",
      "RDKit ERROR: [23:46:13] Explicit valence for atom # 25 N, 4, is greater than permitted\n",
      "RDKit ERROR: [23:46:13] Explicit valence for atom # 12 N, 4, is greater than permitted\n",
      "RDKit ERROR: [23:46:13] Explicit valence for atom # 28 N, 4, is greater than permitted\n",
      "RDKit ERROR: [23:46:13] Explicit valence for atom # 22 N, 4, is greater than permitted\n",
      "RDKit ERROR: [23:46:13] Explicit valence for atom # 17 N, 4, is greater than permitted\n",
      "RDKit ERROR: [23:46:13] Explicit valence for atom # 23 N, 4, is greater than permitted\n",
      "RDKit ERROR: [23:46:13] Explicit valence for atom # 13 N, 4, is greater than permitted\n",
      "RDKit ERROR: [23:46:13] Explicit valence for atom # 24 N, 4, is greater than permitted\n",
      "RDKit ERROR: [23:46:13] Explicit valence for atom # 29 N, 4, is greater than permitted\n",
      "RDKit ERROR: [23:46:13] Explicit valence for atom # 21 N, 4, is greater than permitted\n",
      "RDKit ERROR: [23:46:14] Explicit valence for atom # 12 N, 4, is greater than permitted\n",
      "RDKit ERROR: [23:46:14] Explicit valence for atom # 13 N, 4, is greater than permitted\n",
      "RDKit ERROR: [23:46:14] Explicit valence for atom # 24 N, 4, is greater than permitted\n",
      "RDKit ERROR: [23:46:14] Explicit valence for atom # 24 N, 4, is greater than permitted\n",
      "RDKit ERROR: [23:46:14] Explicit valence for atom # 8 N, 4, is greater than permitted\n",
      "RDKit ERROR: [23:46:14] Explicit valence for atom # 1 N, 4, is greater than permitted\n",
      "RDKit ERROR: [23:46:14] Can't kekulize mol.  Unkekulized atoms: 25 26 27 28 29\n",
      "RDKit ERROR: \n",
      "RDKit ERROR: [23:46:14] Explicit valence for atom # 9 N, 4, is greater than permitted\n",
      "RDKit ERROR: [23:46:14] Explicit valence for atom # 21 N, 4, is greater than permitted\n",
      "RDKit ERROR: [23:46:14] Explicit valence for atom # 19 N, 4, is greater than permitted\n",
      "RDKit ERROR: [23:46:14] Explicit valence for atom # 8 N, 4, is greater than permitted\n",
      "RDKit ERROR: [23:46:14] Explicit valence for atom # 31 N, 4, is greater than permitted\n",
      "RDKit ERROR: [23:46:14] Explicit valence for atom # 1 N, 4, is greater than permitted\n",
      "RDKit ERROR: [23:46:14] Explicit valence for atom # 18 N, 4, is greater than permitted\n",
      "RDKit ERROR: [23:46:14] Explicit valence for atom # 25 N, 4, is greater than permitted\n",
      "RDKit ERROR: [23:46:14] Can't kekulize mol.  Unkekulized atoms: 14 15 16 18 19 20 21 22 23\n",
      "RDKit ERROR: \n",
      "RDKit ERROR: [23:46:14] Explicit valence for atom # 28 N, 4, is greater than permitted\n",
      "RDKit ERROR: [23:46:14] Explicit valence for atom # 1 N, 4, is greater than permitted\n",
      "RDKit ERROR: [23:46:14] Explicit valence for atom # 9 N, 4, is greater than permitted\n",
      "RDKit ERROR: [23:46:14] Explicit valence for atom # 12 N, 4, is greater than permitted\n",
      "RDKit ERROR: [23:46:14] Explicit valence for atom # 28 N, 4, is greater than permitted\n",
      "RDKit ERROR: [23:46:14] Explicit valence for atom # 1 N, 4, is greater than permitted\n",
      "RDKit ERROR: [23:46:14] Explicit valence for atom # 6 N, 4, is greater than permitted\n",
      "RDKit ERROR: [23:46:14] Explicit valence for atom # 12 N, 4, is greater than permitted\n",
      "RDKit ERROR: [23:46:15] Explicit valence for atom # 21 N, 4, is greater than permitted\n",
      "RDKit ERROR: [23:46:15] Explicit valence for atom # 13 N, 4, is greater than permitted\n",
      "RDKit ERROR: [23:46:15] Explicit valence for atom # 5 N, 4, is greater than permitted\n",
      "RDKit ERROR: [23:46:15] Explicit valence for atom # 25 N, 4, is greater than permitted\n",
      "RDKit ERROR: [23:46:15] Explicit valence for atom # 19 N, 4, is greater than permitted\n",
      "RDKit ERROR: [23:46:15] Can't kekulize mol.  Unkekulized atoms: 25 26 27 28 29\n",
      "RDKit ERROR: \n",
      "RDKit ERROR: [23:46:15] Can't kekulize mol.  Unkekulized atoms: 25 26 27 28 29\n",
      "RDKit ERROR: \n",
      "RDKit ERROR: [23:46:15] Can't kekulize mol.  Unkekulized atoms: 25 26 27 28 29\n",
      "RDKit ERROR: \n",
      "RDKit ERROR: [23:46:15] Explicit valence for atom # 26 N, 4, is greater than permitted\n",
      "RDKit ERROR: [23:46:15] Explicit valence for atom # 13 N, 4, is greater than permitted\n",
      "RDKit ERROR: [23:46:15] Explicit valence for atom # 25 N, 4, is greater than permitted\n",
      "RDKit ERROR: [23:46:15] Explicit valence for atom # 25 N, 4, is greater than permitted\n",
      "RDKit ERROR: [23:46:15] Explicit valence for atom # 21 N, 4, is greater than permitted\n",
      "RDKit ERROR: [23:46:15] Explicit valence for atom # 6 N, 4, is greater than permitted\n",
      "RDKit ERROR: [23:46:15] Explicit valence for atom # 28 N, 4, is greater than permitted\n",
      "RDKit ERROR: [23:46:15] Explicit valence for atom # 25 N, 4, is greater than permitted\n",
      "RDKit ERROR: [23:46:15] Explicit valence for atom # 25 N, 4, is greater than permitted\n",
      "RDKit ERROR: [23:46:15] Explicit valence for atom # 25 N, 4, is greater than permitted\n",
      "RDKit ERROR: [23:46:15] Explicit valence for atom # 27 N, 4, is greater than permitted\n",
      "RDKit ERROR: [23:46:15] Explicit valence for atom # 24 N, 4, is greater than permitted\n",
      "RDKit ERROR: [23:46:15] Explicit valence for atom # 15 N, 4, is greater than permitted\n",
      "RDKit ERROR: [23:46:16] Explicit valence for atom # 25 N, 4, is greater than permitted\n",
      "RDKit ERROR: [23:46:16] Explicit valence for atom # 15 N, 4, is greater than permitted\n",
      "RDKit ERROR: [23:46:16] Explicit valence for atom # 15 N, 4, is greater than permitted\n"
     ]
    }
   ],
   "source": [
    "total_invalid = get_invalid_count()\n",
    "\n",
    "# an RDKIT error will print for each invalid molecule"
   ]
  },
  {
   "cell_type": "code",
   "execution_count": 12,
   "metadata": {},
   "outputs": [
    {
     "name": "stdout",
     "output_type": "stream",
     "text": [
      "The total number of invalid SMILES are 160\n"
     ]
    }
   ],
   "source": [
    "print(\"The total number of invalid SMILES are \" + str(total_invalid))"
   ]
  },
  {
   "cell_type": "code",
   "execution_count": 13,
   "metadata": {},
   "outputs": [
    {
     "name": "stdout",
     "output_type": "stream",
     "text": [
      "<class 'pandas.core.frame.DataFrame'>\n",
      "RangeIndex: 10808 entries, 0 to 10807\n",
      "Data columns (total 2 columns):\n",
      " #   Column         Non-Null Count  Dtype  \n",
      "---  ------         --------------  -----  \n",
      " 0   Smiles         10808 non-null  object \n",
      " 1   pChEMBL Value  10808 non-null  float64\n",
      "dtypes: float64(1), object(1)\n",
      "memory usage: 169.0+ KB\n"
     ]
    }
   ],
   "source": [
    "df.info()"
   ]
  },
  {
   "cell_type": "markdown",
   "metadata": {},
   "source": [
    "### Save Dataframe as a .csv file"
   ]
  },
  {
   "cell_type": "code",
   "execution_count": 14,
   "metadata": {},
   "outputs": [],
   "source": [
    "df.to_csv('Data/DRD2_clean_data.csv')"
   ]
  },
  {
   "cell_type": "markdown",
   "metadata": {},
   "source": [
    "### Obtaining Murcko Scaffolds"
   ]
  },
  {
   "cell_type": "markdown",
   "metadata": {},
   "source": [
    "Now we will use RDKit's module to obtain a series of murcko scaffold for all Valid SMILES."
   ]
  },
  {
   "cell_type": "code",
   "execution_count": 15,
   "metadata": {},
   "outputs": [],
   "source": [
    "def get_murcko_scaffolds():\n",
    "    \n",
    "    scaffold_list = []\n",
    "    \n",
    "    global df, smi_column\n",
    "    smiles_ser = df[smi_column]\n",
    "    smiles_list = smiles_ser.tolist()\n",
    "    \n",
    "    for smiles in smiles_list:\n",
    "        \n",
    "        # get mol from SMILES\n",
    "        mol = rkc.MolFromSmiles(smiles)\n",
    "        \n",
    "        # get murcko scaffold\n",
    "        scaffold = mrks.GetScaffoldForMol(mol)\n",
    "        \n",
    "        # convery scaffold mol to SMILES\n",
    "        sca_smiles = rkc.MolToSmiles(scaffold, isomericSmiles=False)\n",
    "        \n",
    "        scaffold_list.append(sca_smiles)\n",
    "        \n",
    "    scaffold_ser = pd.Series(scaffold_list, name = 'scaffold')\n",
    "    \n",
    "    df = df.join(scaffold_ser)\n",
    "    \n",
    "    return None"
   ]
  },
  {
   "cell_type": "code",
   "execution_count": 16,
   "metadata": {},
   "outputs": [],
   "source": [
    "get_murcko_scaffolds()"
   ]
  },
  {
   "cell_type": "code",
   "execution_count": 17,
   "metadata": {},
   "outputs": [
    {
     "data": {
      "text/plain": [
       "Smiles           0\n",
       "pChEMBL Value    0\n",
       "scaffold         0\n",
       "dtype: int64"
      ]
     },
     "execution_count": 17,
     "metadata": {},
     "output_type": "execute_result"
    }
   ],
   "source": [
    "df.isnull().sum()"
   ]
  },
  {
   "cell_type": "code",
   "execution_count": 18,
   "metadata": {},
   "outputs": [
    {
     "name": "stdout",
     "output_type": "stream",
     "text": [
      "<class 'pandas.core.frame.DataFrame'>\n",
      "RangeIndex: 10808 entries, 0 to 10807\n",
      "Data columns (total 3 columns):\n",
      " #   Column         Non-Null Count  Dtype  \n",
      "---  ------         --------------  -----  \n",
      " 0   Smiles         10808 non-null  object \n",
      " 1   pChEMBL Value  10808 non-null  float64\n",
      " 2   scaffold       10808 non-null  object \n",
      "dtypes: float64(1), object(2)\n",
      "memory usage: 253.4+ KB\n"
     ]
    }
   ],
   "source": [
    "df.info()"
   ]
  },
  {
   "cell_type": "code",
   "execution_count": 19,
   "metadata": {},
   "outputs": [
    {
     "data": {
      "text/html": [
       "<div>\n",
       "<style scoped>\n",
       "    .dataframe tbody tr th:only-of-type {\n",
       "        vertical-align: middle;\n",
       "    }\n",
       "\n",
       "    .dataframe tbody tr th {\n",
       "        vertical-align: top;\n",
       "    }\n",
       "\n",
       "    .dataframe thead th {\n",
       "        text-align: right;\n",
       "    }\n",
       "</style>\n",
       "<table border=\"1\" class=\"dataframe\">\n",
       "  <thead>\n",
       "    <tr style=\"text-align: right;\">\n",
       "      <th></th>\n",
       "      <th>Smiles</th>\n",
       "      <th>pChEMBL Value</th>\n",
       "      <th>scaffold</th>\n",
       "    </tr>\n",
       "  </thead>\n",
       "  <tbody>\n",
       "    <tr>\n",
       "      <th>10803</th>\n",
       "      <td>NC(=O)C1CCS[CH]2C[C]3(CCCN3C(=O)[CH]3CCCN3)C(=...</td>\n",
       "      <td>10.51</td>\n",
       "      <td>O=C(C1CCCN1)N1CCCC12CC1SCCCN1C2=O</td>\n",
       "    </tr>\n",
       "    <tr>\n",
       "      <th>10804</th>\n",
       "      <td>O=C(NCCC(F)CN1CCN(c2cccc(Cl)c2Cl)CC1)c1cc2cccc...</td>\n",
       "      <td>10.52</td>\n",
       "      <td>O=C(NCCCCN1CCN(c2ccccc2)CC1)c1cc2ccccc2o1</td>\n",
       "    </tr>\n",
       "    <tr>\n",
       "      <th>10805</th>\n",
       "      <td>O=C(CCCN1CCC(n2c(O)nc3ccccc32)CC1)c1ccc(F)cc1</td>\n",
       "      <td>10.57</td>\n",
       "      <td>O=C(CCCN1CCC(n2cnc3ccccc32)CC1)c1ccccc1</td>\n",
       "    </tr>\n",
       "    <tr>\n",
       "      <th>10806</th>\n",
       "      <td>O=C(O)C(=O)O.Oc1ccc2c(c1)O[CH](CNCc1ccccc1)CC2</td>\n",
       "      <td>10.70</td>\n",
       "      <td>c1ccc(CNCC2CCc3ccccc3O2)cc1</td>\n",
       "    </tr>\n",
       "    <tr>\n",
       "      <th>10807</th>\n",
       "      <td>CCN(CC)C(=O)N[CH]1C=C2C3C=CC=C4NC=C(C[CH]2N(C)...</td>\n",
       "      <td>11.00</td>\n",
       "      <td>C1=CC2C3=CCCNC3CC3=CNC(=C1)C32</td>\n",
       "    </tr>\n",
       "  </tbody>\n",
       "</table>\n",
       "</div>"
      ],
      "text/plain": [
       "                                                  Smiles  pChEMBL Value  \\\n",
       "10803  NC(=O)C1CCS[CH]2C[C]3(CCCN3C(=O)[CH]3CCCN3)C(=...          10.51   \n",
       "10804  O=C(NCCC(F)CN1CCN(c2cccc(Cl)c2Cl)CC1)c1cc2cccc...          10.52   \n",
       "10805      O=C(CCCN1CCC(n2c(O)nc3ccccc32)CC1)c1ccc(F)cc1          10.57   \n",
       "10806     O=C(O)C(=O)O.Oc1ccc2c(c1)O[CH](CNCc1ccccc1)CC2          10.70   \n",
       "10807  CCN(CC)C(=O)N[CH]1C=C2C3C=CC=C4NC=C(C[CH]2N(C)...          11.00   \n",
       "\n",
       "                                        scaffold  \n",
       "10803          O=C(C1CCCN1)N1CCCC12CC1SCCCN1C2=O  \n",
       "10804  O=C(NCCCCN1CCN(c2ccccc2)CC1)c1cc2ccccc2o1  \n",
       "10805    O=C(CCCN1CCC(n2cnc3ccccc32)CC1)c1ccccc1  \n",
       "10806                c1ccc(CNCC2CCc3ccccc3O2)cc1  \n",
       "10807             C1=CC2C3=CCCNC3CC3=CNC(=C1)C32  "
      ]
     },
     "execution_count": 19,
     "metadata": {},
     "output_type": "execute_result"
    }
   ],
   "source": [
    "df.tail()"
   ]
  },
  {
   "cell_type": "markdown",
   "metadata": {},
   "source": [
    "### Save scaffold file"
   ]
  },
  {
   "cell_type": "code",
   "execution_count": 20,
   "metadata": {},
   "outputs": [],
   "source": [
    "df.to_csv('Data/drd2_clean_data_w_scaffolds.csv', index = False)"
   ]
  }
 ],
 "metadata": {
  "kernelspec": {
   "display_name": "RC_v3",
   "language": "python",
   "name": "reinventcommunity"
  },
  "language_info": {
   "codemirror_mode": {
    "name": "ipython",
    "version": 3
   },
   "file_extension": ".py",
   "mimetype": "text/x-python",
   "name": "python",
   "nbconvert_exporter": "python",
   "pygments_lexer": "ipython3",
   "version": "3.7.6"
  }
 },
 "nbformat": 4,
 "nbformat_minor": 2
}
